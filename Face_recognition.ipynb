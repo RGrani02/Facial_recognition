{
 "cells": [
  {
   "cell_type": "markdown",
   "id": "ee304769",
   "metadata": {},
   "source": [
    "# 1. Setup"
   ]
  },
  {
   "cell_type": "markdown",
   "id": "9f0416ee",
   "metadata": {},
   "source": [
    "## 1.1 Installing Dependencies"
   ]
  },
  {
   "cell_type": "code",
   "execution_count": 15,
   "id": "5a7feb61",
   "metadata": {},
   "outputs": [
    {
     "name": "stdout",
     "output_type": "stream",
     "text": [
      "Requirement already satisfied: pip in c:\\users\\akriti.pandey\\anaconda3\\envs\\tensorflow\\lib\\site-packages (22.1.1)\n",
      "Note: you may need to restart the kernel to use updated packages.\n"
     ]
    }
   ],
   "source": [
    "pip install --upgrade pip"
   ]
  },
  {
   "cell_type": "code",
   "execution_count": 16,
   "id": "d8a2d63a",
   "metadata": {
    "scrolled": true
   },
   "outputs": [
    {
     "name": "stdout",
     "output_type": "stream",
     "text": [
      "Requirement already satisfied: tensorflow==2.6.0 in c:\\users\\akriti.pandey\\anaconda3\\envs\\tensorflow\\lib\\site-packages (2.6.0)\n",
      "Requirement already satisfied: opt-einsum~=3.3.0 in c:\\users\\akriti.pandey\\anaconda3\\envs\\tensorflow\\lib\\site-packages (from tensorflow==2.6.0) (3.3.0)\n",
      "Requirement already satisfied: clang~=5.0 in c:\\users\\akriti.pandey\\anaconda3\\envs\\tensorflow\\lib\\site-packages (from tensorflow==2.6.0) (5.0)\n",
      "Requirement already satisfied: gast==0.4.0 in c:\\users\\akriti.pandey\\anaconda3\\envs\\tensorflow\\lib\\site-packages (from tensorflow==2.6.0) (0.4.0)\n",
      "Requirement already satisfied: keras~=2.6 in c:\\users\\akriti.pandey\\anaconda3\\envs\\tensorflow\\lib\\site-packages (from tensorflow==2.6.0) (2.6.0)\n",
      "Requirement already satisfied: protobuf>=3.9.2 in c:\\users\\akriti.pandey\\anaconda3\\envs\\tensorflow\\lib\\site-packages (from tensorflow==2.6.0) (3.17.2)\n",
      "Requirement already satisfied: numpy~=1.19.2 in c:\\users\\akriti.pandey\\anaconda3\\envs\\tensorflow\\lib\\site-packages (from tensorflow==2.6.0) (1.19.5)\n",
      "Requirement already satisfied: six~=1.15.0 in c:\\users\\akriti.pandey\\anaconda3\\envs\\tensorflow\\lib\\site-packages (from tensorflow==2.6.0) (1.15.0)\n",
      "Requirement already satisfied: tensorflow-estimator~=2.6 in c:\\users\\akriti.pandey\\anaconda3\\envs\\tensorflow\\lib\\site-packages (from tensorflow==2.6.0) (2.6.0)\n",
      "Requirement already satisfied: google-pasta~=0.2 in c:\\users\\akriti.pandey\\anaconda3\\envs\\tensorflow\\lib\\site-packages (from tensorflow==2.6.0) (0.2.0)\n",
      "Requirement already satisfied: h5py~=3.1.0 in c:\\users\\akriti.pandey\\anaconda3\\envs\\tensorflow\\lib\\site-packages (from tensorflow==2.6.0) (3.1.0)\n",
      "Requirement already satisfied: termcolor~=1.1.0 in c:\\users\\akriti.pandey\\anaconda3\\envs\\tensorflow\\lib\\site-packages (from tensorflow==2.6.0) (1.1.0)\n",
      "Requirement already satisfied: grpcio<2.0,>=1.37.0 in c:\\users\\akriti.pandey\\anaconda3\\envs\\tensorflow\\lib\\site-packages (from tensorflow==2.6.0) (1.42.0)\n",
      "Requirement already satisfied: wrapt~=1.12.1 in c:\\users\\akriti.pandey\\anaconda3\\envs\\tensorflow\\lib\\site-packages (from tensorflow==2.6.0) (1.12.1)\n",
      "Requirement already satisfied: keras-preprocessing~=1.1.2 in c:\\users\\akriti.pandey\\anaconda3\\envs\\tensorflow\\lib\\site-packages (from tensorflow==2.6.0) (1.1.2)\n",
      "Requirement already satisfied: wheel~=0.35 in c:\\users\\akriti.pandey\\anaconda3\\envs\\tensorflow\\lib\\site-packages (from tensorflow==2.6.0) (0.35.1)\n",
      "Requirement already satisfied: flatbuffers~=1.12.0 in c:\\users\\akriti.pandey\\anaconda3\\envs\\tensorflow\\lib\\site-packages (from tensorflow==2.6.0) (1.12)\n",
      "Requirement already satisfied: absl-py~=0.10 in c:\\users\\akriti.pandey\\anaconda3\\envs\\tensorflow\\lib\\site-packages (from tensorflow==2.6.0) (0.15.0)\n",
      "Requirement already satisfied: typing-extensions~=3.7.4 in c:\\users\\akriti.pandey\\anaconda3\\envs\\tensorflow\\lib\\site-packages (from tensorflow==2.6.0) (3.7.4.3)\n",
      "Requirement already satisfied: tensorboard~=2.6 in c:\\users\\akriti.pandey\\anaconda3\\envs\\tensorflow\\lib\\site-packages (from tensorflow==2.6.0) (2.8.0)\n",
      "Requirement already satisfied: astunparse~=1.6.3 in c:\\users\\akriti.pandey\\anaconda3\\envs\\tensorflow\\lib\\site-packages (from tensorflow==2.6.0) (1.6.3)\n",
      "Requirement already satisfied: tensorboard-plugin-wit>=1.6.0 in c:\\users\\akriti.pandey\\anaconda3\\envs\\tensorflow\\lib\\site-packages (from tensorboard~=2.6->tensorflow==2.6.0) (1.6.0)\n",
      "Requirement already satisfied: google-auth<3,>=1.6.3 in c:\\users\\akriti.pandey\\anaconda3\\envs\\tensorflow\\lib\\site-packages (from tensorboard~=2.6->tensorflow==2.6.0) (1.33.0)\n",
      "Requirement already satisfied: markdown>=2.6.8 in c:\\users\\akriti.pandey\\anaconda3\\envs\\tensorflow\\lib\\site-packages (from tensorboard~=2.6->tensorflow==2.6.0) (3.3.4)\n",
      "Requirement already satisfied: google-auth-oauthlib<0.5,>=0.4.1 in c:\\users\\akriti.pandey\\anaconda3\\envs\\tensorflow\\lib\\site-packages (from tensorboard~=2.6->tensorflow==2.6.0) (0.4.1)\n",
      "Requirement already satisfied: setuptools>=41.0.0 in c:\\users\\akriti.pandey\\anaconda3\\envs\\tensorflow\\lib\\site-packages (from tensorboard~=2.6->tensorflow==2.6.0) (58.0.4)\n",
      "Requirement already satisfied: werkzeug>=0.11.15 in c:\\users\\akriti.pandey\\anaconda3\\envs\\tensorflow\\lib\\site-packages (from tensorboard~=2.6->tensorflow==2.6.0) (2.0.3)\n",
      "Requirement already satisfied: tensorboard-data-server<0.7.0,>=0.6.0 in c:\\users\\akriti.pandey\\anaconda3\\envs\\tensorflow\\lib\\site-packages (from tensorboard~=2.6->tensorflow==2.6.0) (0.6.0)\n",
      "Requirement already satisfied: requests<3,>=2.21.0 in c:\\users\\akriti.pandey\\anaconda3\\envs\\tensorflow\\lib\\site-packages (from tensorboard~=2.6->tensorflow==2.6.0) (2.27.1)\n",
      "Requirement already satisfied: rsa<5,>=3.1.4 in c:\\users\\akriti.pandey\\anaconda3\\envs\\tensorflow\\lib\\site-packages (from google-auth<3,>=1.6.3->tensorboard~=2.6->tensorflow==2.6.0) (4.7.2)\n",
      "Requirement already satisfied: cachetools<5.0,>=2.0.0 in c:\\users\\akriti.pandey\\anaconda3\\envs\\tensorflow\\lib\\site-packages (from google-auth<3,>=1.6.3->tensorboard~=2.6->tensorflow==2.6.0) (4.2.2)\n",
      "Requirement already satisfied: pyasn1-modules>=0.2.1 in c:\\users\\akriti.pandey\\anaconda3\\envs\\tensorflow\\lib\\site-packages (from google-auth<3,>=1.6.3->tensorboard~=2.6->tensorflow==2.6.0) (0.2.8)\n",
      "Requirement already satisfied: requests-oauthlib>=0.7.0 in c:\\users\\akriti.pandey\\anaconda3\\envs\\tensorflow\\lib\\site-packages (from google-auth-oauthlib<0.5,>=0.4.1->tensorboard~=2.6->tensorflow==2.6.0) (1.3.0)\n",
      "Requirement already satisfied: urllib3<1.27,>=1.21.1 in c:\\users\\akriti.pandey\\anaconda3\\envs\\tensorflow\\lib\\site-packages (from requests<3,>=2.21.0->tensorboard~=2.6->tensorflow==2.6.0) (1.26.8)\n",
      "Requirement already satisfied: charset-normalizer~=2.0.0 in c:\\users\\akriti.pandey\\anaconda3\\envs\\tensorflow\\lib\\site-packages (from requests<3,>=2.21.0->tensorboard~=2.6->tensorflow==2.6.0) (2.0.4)\n",
      "Requirement already satisfied: idna<4,>=2.5 in c:\\users\\akriti.pandey\\anaconda3\\envs\\tensorflow\\lib\\site-packages (from requests<3,>=2.21.0->tensorboard~=2.6->tensorflow==2.6.0) (3.3)\n",
      "Requirement already satisfied: certifi>=2017.4.17 in c:\\users\\akriti.pandey\\anaconda3\\envs\\tensorflow\\lib\\site-packages (from requests<3,>=2.21.0->tensorboard~=2.6->tensorflow==2.6.0) (2021.10.8)\n",
      "Requirement already satisfied: pyasn1<0.5.0,>=0.4.6 in c:\\users\\akriti.pandey\\anaconda3\\envs\\tensorflow\\lib\\site-packages (from pyasn1-modules>=0.2.1->google-auth<3,>=1.6.3->tensorboard~=2.6->tensorflow==2.6.0) (0.4.8)\n",
      "Requirement already satisfied: oauthlib>=3.0.0 in c:\\users\\akriti.pandey\\anaconda3\\envs\\tensorflow\\lib\\site-packages (from requests-oauthlib>=0.7.0->google-auth-oauthlib<0.5,>=0.4.1->tensorboard~=2.6->tensorflow==2.6.0) (3.2.0)\n"
     ]
    }
   ],
   "source": [
    "!pip install tensorflow==2.6.0 "
   ]
  },
  {
   "cell_type": "code",
   "execution_count": 17,
   "id": "b12f17f7",
   "metadata": {},
   "outputs": [
    {
     "name": "stdout",
     "output_type": "stream",
     "text": [
      "Requirement already satisfied: tensorflow-gpu==2.6.0 in c:\\users\\akriti.pandey\\anaconda3\\envs\\tensorflow\\lib\\site-packages (2.6.0)\n",
      "Requirement already satisfied: absl-py~=0.10 in c:\\users\\akriti.pandey\\anaconda3\\envs\\tensorflow\\lib\\site-packages (from tensorflow-gpu==2.6.0) (0.15.0)\n",
      "Requirement already satisfied: wheel~=0.35 in c:\\users\\akriti.pandey\\anaconda3\\envs\\tensorflow\\lib\\site-packages (from tensorflow-gpu==2.6.0) (0.35.1)\n",
      "Requirement already satisfied: flatbuffers~=1.12.0 in c:\\users\\akriti.pandey\\anaconda3\\envs\\tensorflow\\lib\\site-packages (from tensorflow-gpu==2.6.0) (1.12)\n",
      "Requirement already satisfied: protobuf>=3.9.2 in c:\\users\\akriti.pandey\\anaconda3\\envs\\tensorflow\\lib\\site-packages (from tensorflow-gpu==2.6.0) (3.17.2)\n",
      "Requirement already satisfied: grpcio<2.0,>=1.37.0 in c:\\users\\akriti.pandey\\anaconda3\\envs\\tensorflow\\lib\\site-packages (from tensorflow-gpu==2.6.0) (1.42.0)\n",
      "Requirement already satisfied: six~=1.15.0 in c:\\users\\akriti.pandey\\anaconda3\\envs\\tensorflow\\lib\\site-packages (from tensorflow-gpu==2.6.0) (1.15.0)\n",
      "Requirement already satisfied: opt-einsum~=3.3.0 in c:\\users\\akriti.pandey\\anaconda3\\envs\\tensorflow\\lib\\site-packages (from tensorflow-gpu==2.6.0) (3.3.0)\n",
      "Requirement already satisfied: keras-preprocessing~=1.1.2 in c:\\users\\akriti.pandey\\anaconda3\\envs\\tensorflow\\lib\\site-packages (from tensorflow-gpu==2.6.0) (1.1.2)\n",
      "Requirement already satisfied: tensorflow-estimator~=2.6 in c:\\users\\akriti.pandey\\anaconda3\\envs\\tensorflow\\lib\\site-packages (from tensorflow-gpu==2.6.0) (2.6.0)\n",
      "Requirement already satisfied: termcolor~=1.1.0 in c:\\users\\akriti.pandey\\anaconda3\\envs\\tensorflow\\lib\\site-packages (from tensorflow-gpu==2.6.0) (1.1.0)\n",
      "Requirement already satisfied: typing-extensions~=3.7.4 in c:\\users\\akriti.pandey\\anaconda3\\envs\\tensorflow\\lib\\site-packages (from tensorflow-gpu==2.6.0) (3.7.4.3)\n",
      "Requirement already satisfied: numpy~=1.19.2 in c:\\users\\akriti.pandey\\anaconda3\\envs\\tensorflow\\lib\\site-packages (from tensorflow-gpu==2.6.0) (1.19.5)\n",
      "Requirement already satisfied: google-pasta~=0.2 in c:\\users\\akriti.pandey\\anaconda3\\envs\\tensorflow\\lib\\site-packages (from tensorflow-gpu==2.6.0) (0.2.0)\n",
      "Requirement already satisfied: keras~=2.6 in c:\\users\\akriti.pandey\\anaconda3\\envs\\tensorflow\\lib\\site-packages (from tensorflow-gpu==2.6.0) (2.6.0)\n",
      "Requirement already satisfied: tensorboard~=2.6 in c:\\users\\akriti.pandey\\anaconda3\\envs\\tensorflow\\lib\\site-packages (from tensorflow-gpu==2.6.0) (2.8.0)\n",
      "Requirement already satisfied: clang~=5.0 in c:\\users\\akriti.pandey\\anaconda3\\envs\\tensorflow\\lib\\site-packages (from tensorflow-gpu==2.6.0) (5.0)\n",
      "Requirement already satisfied: wrapt~=1.12.1 in c:\\users\\akriti.pandey\\anaconda3\\envs\\tensorflow\\lib\\site-packages (from tensorflow-gpu==2.6.0) (1.12.1)\n",
      "Requirement already satisfied: astunparse~=1.6.3 in c:\\users\\akriti.pandey\\anaconda3\\envs\\tensorflow\\lib\\site-packages (from tensorflow-gpu==2.6.0) (1.6.3)\n",
      "Requirement already satisfied: h5py~=3.1.0 in c:\\users\\akriti.pandey\\anaconda3\\envs\\tensorflow\\lib\\site-packages (from tensorflow-gpu==2.6.0) (3.1.0)\n",
      "Requirement already satisfied: gast==0.4.0 in c:\\users\\akriti.pandey\\anaconda3\\envs\\tensorflow\\lib\\site-packages (from tensorflow-gpu==2.6.0) (0.4.0)\n",
      "Requirement already satisfied: setuptools>=41.0.0 in c:\\users\\akriti.pandey\\anaconda3\\envs\\tensorflow\\lib\\site-packages (from tensorboard~=2.6->tensorflow-gpu==2.6.0) (58.0.4)\n",
      "Requirement already satisfied: google-auth-oauthlib<0.5,>=0.4.1 in c:\\users\\akriti.pandey\\anaconda3\\envs\\tensorflow\\lib\\site-packages (from tensorboard~=2.6->tensorflow-gpu==2.6.0) (0.4.1)\n",
      "Requirement already satisfied: tensorboard-plugin-wit>=1.6.0 in c:\\users\\akriti.pandey\\anaconda3\\envs\\tensorflow\\lib\\site-packages (from tensorboard~=2.6->tensorflow-gpu==2.6.0) (1.6.0)\n",
      "Requirement already satisfied: tensorboard-data-server<0.7.0,>=0.6.0 in c:\\users\\akriti.pandey\\anaconda3\\envs\\tensorflow\\lib\\site-packages (from tensorboard~=2.6->tensorflow-gpu==2.6.0) (0.6.0)\n",
      "Requirement already satisfied: werkzeug>=0.11.15 in c:\\users\\akriti.pandey\\anaconda3\\envs\\tensorflow\\lib\\site-packages (from tensorboard~=2.6->tensorflow-gpu==2.6.0) (2.0.3)\n",
      "Requirement already satisfied: requests<3,>=2.21.0 in c:\\users\\akriti.pandey\\anaconda3\\envs\\tensorflow\\lib\\site-packages (from tensorboard~=2.6->tensorflow-gpu==2.6.0) (2.27.1)\n",
      "Requirement already satisfied: google-auth<3,>=1.6.3 in c:\\users\\akriti.pandey\\anaconda3\\envs\\tensorflow\\lib\\site-packages (from tensorboard~=2.6->tensorflow-gpu==2.6.0) (1.33.0)\n",
      "Requirement already satisfied: markdown>=2.6.8 in c:\\users\\akriti.pandey\\anaconda3\\envs\\tensorflow\\lib\\site-packages (from tensorboard~=2.6->tensorflow-gpu==2.6.0) (3.3.4)\n",
      "Requirement already satisfied: cachetools<5.0,>=2.0.0 in c:\\users\\akriti.pandey\\anaconda3\\envs\\tensorflow\\lib\\site-packages (from google-auth<3,>=1.6.3->tensorboard~=2.6->tensorflow-gpu==2.6.0) (4.2.2)\n",
      "Requirement already satisfied: rsa<5,>=3.1.4 in c:\\users\\akriti.pandey\\anaconda3\\envs\\tensorflow\\lib\\site-packages (from google-auth<3,>=1.6.3->tensorboard~=2.6->tensorflow-gpu==2.6.0) (4.7.2)\n",
      "Requirement already satisfied: pyasn1-modules>=0.2.1 in c:\\users\\akriti.pandey\\anaconda3\\envs\\tensorflow\\lib\\site-packages (from google-auth<3,>=1.6.3->tensorboard~=2.6->tensorflow-gpu==2.6.0) (0.2.8)\n",
      "Requirement already satisfied: requests-oauthlib>=0.7.0 in c:\\users\\akriti.pandey\\anaconda3\\envs\\tensorflow\\lib\\site-packages (from google-auth-oauthlib<0.5,>=0.4.1->tensorboard~=2.6->tensorflow-gpu==2.6.0) (1.3.0)\n",
      "Requirement already satisfied: certifi>=2017.4.17 in c:\\users\\akriti.pandey\\anaconda3\\envs\\tensorflow\\lib\\site-packages (from requests<3,>=2.21.0->tensorboard~=2.6->tensorflow-gpu==2.6.0) (2021.10.8)\n",
      "Requirement already satisfied: charset-normalizer~=2.0.0 in c:\\users\\akriti.pandey\\anaconda3\\envs\\tensorflow\\lib\\site-packages (from requests<3,>=2.21.0->tensorboard~=2.6->tensorflow-gpu==2.6.0) (2.0.4)\n",
      "Requirement already satisfied: idna<4,>=2.5 in c:\\users\\akriti.pandey\\anaconda3\\envs\\tensorflow\\lib\\site-packages (from requests<3,>=2.21.0->tensorboard~=2.6->tensorflow-gpu==2.6.0) (3.3)\n",
      "Requirement already satisfied: urllib3<1.27,>=1.21.1 in c:\\users\\akriti.pandey\\anaconda3\\envs\\tensorflow\\lib\\site-packages (from requests<3,>=2.21.0->tensorboard~=2.6->tensorflow-gpu==2.6.0) (1.26.8)\n",
      "Requirement already satisfied: pyasn1<0.5.0,>=0.4.6 in c:\\users\\akriti.pandey\\anaconda3\\envs\\tensorflow\\lib\\site-packages (from pyasn1-modules>=0.2.1->google-auth<3,>=1.6.3->tensorboard~=2.6->tensorflow-gpu==2.6.0) (0.4.8)\n",
      "Requirement already satisfied: oauthlib>=3.0.0 in c:\\users\\akriti.pandey\\anaconda3\\envs\\tensorflow\\lib\\site-packages (from requests-oauthlib>=0.7.0->google-auth-oauthlib<0.5,>=0.4.1->tensorboard~=2.6->tensorflow-gpu==2.6.0) (3.2.0)\n"
     ]
    }
   ],
   "source": [
    "!pip install tensorflow-gpu==2.6.0"
   ]
  },
  {
   "cell_type": "code",
   "execution_count": 18,
   "id": "16b49e89",
   "metadata": {},
   "outputs": [
    {
     "name": "stdout",
     "output_type": "stream",
     "text": [
      "Requirement already satisfied: opencv-python in c:\\users\\akriti.pandey\\anaconda3\\envs\\tensorflow\\lib\\site-packages (4.5.5.62)\n",
      "Requirement already satisfied: matplotlib in c:\\users\\akriti.pandey\\anaconda3\\envs\\tensorflow\\lib\\site-packages (3.5.1)\n",
      "Requirement already satisfied: numpy>=1.17.3 in c:\\users\\akriti.pandey\\anaconda3\\envs\\tensorflow\\lib\\site-packages (from opencv-python) (1.19.5)\n",
      "Requirement already satisfied: pillow>=6.2.0 in c:\\users\\akriti.pandey\\anaconda3\\envs\\tensorflow\\lib\\site-packages (from matplotlib) (9.0.1)\n",
      "Requirement already satisfied: fonttools>=4.22.0 in c:\\users\\akriti.pandey\\anaconda3\\envs\\tensorflow\\lib\\site-packages (from matplotlib) (4.29.1)\n",
      "Requirement already satisfied: kiwisolver>=1.0.1 in c:\\users\\akriti.pandey\\anaconda3\\envs\\tensorflow\\lib\\site-packages (from matplotlib) (1.3.2)\n",
      "Requirement already satisfied: cycler>=0.10 in c:\\users\\akriti.pandey\\anaconda3\\envs\\tensorflow\\lib\\site-packages (from matplotlib) (0.11.0)\n",
      "Requirement already satisfied: python-dateutil>=2.7 in c:\\users\\akriti.pandey\\anaconda3\\envs\\tensorflow\\lib\\site-packages (from matplotlib) (2.8.2)\n",
      "Requirement already satisfied: packaging>=20.0 in c:\\users\\akriti.pandey\\anaconda3\\envs\\tensorflow\\lib\\site-packages (from matplotlib) (21.3)\n",
      "Requirement already satisfied: pyparsing>=2.2.1 in c:\\users\\akriti.pandey\\anaconda3\\envs\\tensorflow\\lib\\site-packages (from matplotlib) (3.0.4)\n",
      "Requirement already satisfied: six>=1.5 in c:\\users\\akriti.pandey\\anaconda3\\envs\\tensorflow\\lib\\site-packages (from python-dateutil>=2.7->matplotlib) (1.15.0)\n"
     ]
    }
   ],
   "source": [
    "!pip install opencv-python matplotlib"
   ]
  },
  {
   "cell_type": "markdown",
   "id": "7edda967",
   "metadata": {},
   "source": [
    "## 1.2 Importing Dependencies"
   ]
  },
  {
   "cell_type": "code",
   "execution_count": 19,
   "id": "2a428443",
   "metadata": {},
   "outputs": [],
   "source": [
    "import cv2\n",
    "import os\n",
    "import random\n",
    "import numpy as np\n",
    "from matplotlib import pyplot as plt"
   ]
  },
  {
   "cell_type": "code",
   "execution_count": 20,
   "id": "419cd0b2",
   "metadata": {},
   "outputs": [],
   "source": [
    "import tensorflow as tf"
   ]
  },
  {
   "cell_type": "code",
   "execution_count": 21,
   "id": "df389ce0",
   "metadata": {},
   "outputs": [
    {
     "name": "stdout",
     "output_type": "stream",
     "text": [
      "Requirement already satisfied: keras==2.6.* in c:\\users\\akriti.pandey\\anaconda3\\envs\\tensorflow\\lib\\site-packages (2.6.0)\n",
      "Note: you may need to restart the kernel to use updated packages.\n"
     ]
    }
   ],
   "source": [
    "pip install keras==2.6.*"
   ]
  },
  {
   "cell_type": "code",
   "execution_count": 22,
   "id": "433a8d05",
   "metadata": {},
   "outputs": [],
   "source": [
    "from tensorflow.keras.layers import Embedding"
   ]
  },
  {
   "cell_type": "code",
   "execution_count": 23,
   "id": "dca173ac",
   "metadata": {},
   "outputs": [],
   "source": [
    "from tensorflow.keras.models import Model\n",
    "from tensorflow.keras.layers import Layer, Conv2D, Dense, MaxPooling2D, Input, Flatten\n"
   ]
  },
  {
   "cell_type": "markdown",
   "id": "bb9429a9",
   "metadata": {},
   "source": [
    "## 1.3 Setting GPU Growth"
   ]
  },
  {
   "cell_type": "code",
   "execution_count": 24,
   "id": "31d1190e",
   "metadata": {},
   "outputs": [],
   "source": [
    "gpus = tf.config.experimental.list_physical_devices('GPU')\n",
    "for gpu in gpus: \n",
    "    tf.config.experimental.set_memory_growth(gpu, True)"
   ]
  },
  {
   "cell_type": "markdown",
   "id": "90947695",
   "metadata": {},
   "source": [
    "## 1.4 Creating Folder Structures"
   ]
  },
  {
   "cell_type": "code",
   "execution_count": 25,
   "id": "9b9f7b66",
   "metadata": {},
   "outputs": [],
   "source": [
    "# Setup paths\n",
    "POS_PATH = os.path.join('data', 'positive')\n",
    "NEG_PATH = os.path.join('data', 'negative')\n",
    "ANC_PATH = os.path.join('data', 'anchor')"
   ]
  },
  {
   "cell_type": "code",
   "execution_count": 138,
   "id": "16fc090e",
   "metadata": {},
   "outputs": [
    {
     "data": {
      "text/plain": [
       "'data\\\\positive'"
      ]
     },
     "execution_count": 138,
     "metadata": {},
     "output_type": "execute_result"
    }
   ],
   "source": [
    "POS_PATH "
   ]
  },
  {
   "cell_type": "code",
   "execution_count": null,
   "id": "f0a815da",
   "metadata": {},
   "outputs": [],
   "source": [
    "# Make the directories\n",
    "os.makedirs(POS_PATH)\n",
    "os.makedirs(NEG_PATH)\n",
    "os.makedirs(ANC_PATH)"
   ]
  },
  {
   "cell_type": "markdown",
   "id": "1c896943",
   "metadata": {},
   "source": [
    "# 2. Collecting Positives and Anchors"
   ]
  },
  {
   "cell_type": "markdown",
   "id": "e31b878a",
   "metadata": {},
   "source": [
    "## 2.1 Untar Labelled Faces in the Wild Dataset"
   ]
  },
  {
   "cell_type": "code",
   "execution_count": 26,
   "id": "c8213dad",
   "metadata": {},
   "outputs": [],
   "source": [
    "# http://vis-www.cs.umass.edu/lfw/\n",
    "# Uncompress Tar GZ Labelled Faces in the Wild Dataset\n",
    "!tar -xf lfw.tgz"
   ]
  },
  {
   "cell_type": "code",
   "execution_count": 27,
   "id": "15156a05",
   "metadata": {},
   "outputs": [],
   "source": [
    "# Moving LFW Images to the following repository data/negative\n",
    "\n",
    "for directory in os.listdir('lfw'):\n",
    "    for file in os.listdir(os.path.join('lfw', directory)):\n",
    "        EX_PATH = os.path.join('lfw', directory, file)\n",
    "        NEW_PATH = os.path.join(NEG_PATH, file)\n",
    "        os.replace(EX_PATH, NEW_PATH)"
   ]
  },
  {
   "cell_type": "markdown",
   "id": "f58b7bce",
   "metadata": {},
   "source": [
    "## 2.2 Collect Positive and Anchor Classes"
   ]
  },
  {
   "cell_type": "code",
   "execution_count": 28,
   "id": "85bbc92a",
   "metadata": {},
   "outputs": [],
   "source": [
    "import uuid # Import uuid library to generate unique image names"
   ]
  },
  {
   "cell_type": "code",
   "execution_count": 29,
   "id": "b9cec202",
   "metadata": {},
   "outputs": [],
   "source": [
    "uuid??"
   ]
  },
  {
   "cell_type": "markdown",
   "id": "ab938f91",
   "metadata": {},
   "source": [
    "\n",
    "\n",
    "UUID objects (universally unique identifiers) according to RFC 4122.\n",
    "\n",
    "This module provides immutable UUID objects (class UUID) and the functions\n",
    "uuid1(), uuid3(), uuid4(), uuid5() for generating version 1, 3, 4, and 5\n",
    "UUIDs as specified in RFC 4122.\n",
    "\n",
    "If all you want is a unique ID, you should probably call uuid1() or uuid4().\n",
    "Note that uuid1() may compromise privacy since it creates a UUID containing\n",
    "the computer's network address.  uuid4() creates a random UUID."
   ]
  },
  {
   "cell_type": "code",
   "execution_count": 30,
   "id": "803f595b",
   "metadata": {},
   "outputs": [
    {
     "data": {
      "text/plain": [
       "'data\\\\anchor\\\\01d50b7a-db49-11ec-a1b4-2c8db1d65e0b.jpg'"
      ]
     },
     "execution_count": 30,
     "metadata": {},
     "output_type": "execute_result"
    }
   ],
   "source": [
    "os.path.join(ANC_PATH, '{}.jpg'.format(uuid.uuid1()))"
   ]
  },
  {
   "cell_type": "code",
   "execution_count": 32,
   "id": "c038b0e3",
   "metadata": {},
   "outputs": [],
   "source": [
    "# Establishing a connection to the webcam\n",
    "cap = cv2.VideoCapture(0)\n",
    "while cap.isOpened(): \n",
    "    ret, frame = cap.read()\n",
    "   \n",
    "    # Cut down frame to 250x250px\n",
    "    frame = frame[120:120+250,200:200+250, :]\n",
    "    \n",
    "    # Collect anchors \n",
    "    if cv2.waitKey(1) & 0XFF == ord('a'):\n",
    "        # Create the unique file path \n",
    "        imgname = os.path.join(ANC_PATH, '{}.jpg'.format(uuid.uuid1()))\n",
    "        # Write out anchor image\n",
    "        cv2.imwrite(imgname, frame)\n",
    "    \n",
    "    # Collect positives\n",
    "    if cv2.waitKey(1) & 0XFF == ord('p'):\n",
    "        # Create the unique file path \n",
    "        imgname = os.path.join(POS_PATH, '{}.jpg'.format(uuid.uuid1()))\n",
    "        # Write out positive image\n",
    "        cv2.imwrite(imgname, frame)\n",
    "    \n",
    "    # Show image back to screen\n",
    "    cv2.imshow('Image Collection', frame)\n",
    "    \n",
    "    # Breaking gracefully\n",
    "    if cv2.waitKey(1) & 0XFF == ord('q'):\n",
    "        break\n",
    "        \n",
    "# Release the webcam\n",
    "cap.release()\n",
    "# Close the image show frame\n",
    "cv2.destroyAllWindows()"
   ]
  },
  {
   "cell_type": "code",
   "execution_count": 33,
   "id": "0fab7abd",
   "metadata": {},
   "outputs": [
    {
     "data": {
      "text/plain": [
       "(250, 250, 3)"
      ]
     },
     "execution_count": 33,
     "metadata": {},
     "output_type": "execute_result"
    }
   ],
   "source": [
    "frame.shape"
   ]
  },
  {
   "cell_type": "code",
   "execution_count": 38,
   "id": "b6e18e78",
   "metadata": {
    "scrolled": true
   },
   "outputs": [
    {
     "data": {
      "text/plain": [
       "<matplotlib.image.AxesImage at 0x21f93a27070>"
      ]
     },
     "execution_count": 38,
     "metadata": {},
     "output_type": "execute_result"
    },
    {
     "data": {
      "image/png": "[encoded data removed]",
      "text/plain": [
       "<Figure size 432x288 with 1 Axes>"
      ]
     },
     "metadata": {
      "needs_background": "light"
     },
     "output_type": "display_data"
    }
   ],
   "source": [
    "plt.imshow(frame[:250,:200+250, :])"
   ]
  },
  {
   "cell_type": "markdown",
   "id": "cca3bb38",
   "metadata": {},
   "source": [
    "# 3. Load and Preprocess Images"
   ]
  },
  {
   "cell_type": "markdown",
   "id": "69ee00b3",
   "metadata": {},
   "source": [
    "## 3.1 Get Image Directories"
   ]
  },
  {
   "cell_type": "code",
   "execution_count": 39,
   "id": "6b738a41",
   "metadata": {},
   "outputs": [],
   "source": [
    "anchor = tf.data.Dataset.list_files(ANC_PATH+'\\*.jpg').take(300)\n",
    "positive = tf.data.Dataset.list_files(POS_PATH+'\\*.jpg').take(300)\n",
    "negative = tf.data.Dataset.list_files(NEG_PATH+'\\*.jpg').take(300)"
   ]
  },
  {
   "cell_type": "code",
   "execution_count": 40,
   "id": "fe429a2a",
   "metadata": {},
   "outputs": [],
   "source": [
    "dir_test = anchor.as_numpy_iterator()"
   ]
  },
  {
   "cell_type": "code",
   "execution_count": 41,
   "id": "84c862b5",
   "metadata": {},
   "outputs": [
    {
     "name": "stdout",
     "output_type": "stream",
     "text": [
      "b'data\\\\anchor\\\\880e0243-c7c4-11ec-9cee-2c8db1d65e0b.jpg'\n"
     ]
    }
   ],
   "source": [
    "print(dir_test.next())"
   ]
  },
  {
   "cell_type": "markdown",
   "id": "34498672",
   "metadata": {},
   "source": [
    "## 3.2 Preprocessing - Scale and Resize"
   ]
  },
  {
   "cell_type": "code",
   "execution_count": 42,
   "id": "9c08b3cd",
   "metadata": {},
   "outputs": [],
   "source": [
    "def preprocess(file_path):\n",
    "    \n",
    "    # Read in image from file path\n",
    "    byte_img = tf.io.read_file(file_path)\n",
    "    # Load in the image \n",
    "    img = tf.io.decode_jpeg(byte_img)\n",
    "    \n",
    "    # Preprocessing steps - resizing the image to be 100x100x3\n",
    "    img = tf.image.resize(img, (100,100))\n",
    "    # Scale image to be between 0 and 1 \n",
    "    img = img / 255.0\n",
    "\n",
    "    # Return image\n",
    "    return img"
   ]
  },
  {
   "cell_type": "code",
   "execution_count": 43,
   "id": "d5b8d570",
   "metadata": {},
   "outputs": [],
   "source": [
    "img = preprocess('data\\\\anchor\\\\881ea707-c7c4-11ec-a784-2c8db1d65e0b.jpg')"
   ]
  },
  {
   "cell_type": "code",
   "execution_count": 47,
   "id": "59ac6f0b",
   "metadata": {},
   "outputs": [
    {
     "data": {
      "text/plain": [
       "<matplotlib.image.AxesImage at 0x21f93d1b310>"
      ]
     },
     "execution_count": 47,
     "metadata": {},
     "output_type": "execute_result"
    },
    {
     "data": {
      "image/png": "[encoded data removed]",
      "text/plain": [
       "<Figure size 432x288 with 1 Axes>"
      ]
     },
     "metadata": {
      "needs_background": "light"
     },
     "output_type": "display_data"
    }
   ],
   "source": [
    "plt.imshow(img)"
   ]
  },
  {
   "cell_type": "code",
   "execution_count": 48,
   "id": "300d4eef",
   "metadata": {},
   "outputs": [
    {
     "data": {
      "text/plain": [
       "1.0"
      ]
     },
     "execution_count": 48,
     "metadata": {},
     "output_type": "execute_result"
    }
   ],
   "source": [
    "img.numpy().max() "
   ]
  },
  {
   "cell_type": "code",
   "execution_count": 49,
   "id": "32bdff16",
   "metadata": {},
   "outputs": [
    {
     "data": {
      "text/plain": [
       "0.013480392"
      ]
     },
     "execution_count": 49,
     "metadata": {},
     "output_type": "execute_result"
    }
   ],
   "source": [
    "img.numpy().min() "
   ]
  },
  {
   "cell_type": "markdown",
   "id": "031a18d7",
   "metadata": {},
   "source": [
    "\n",
    "\n",
    "\n",
    "## 3.3 Create Labelled Dataset"
   ]
  },
  {
   "cell_type": "code",
   "execution_count": 50,
   "id": "76d6e3c6",
   "metadata": {},
   "outputs": [],
   "source": [
    "# (anchor, positive) => 1,1,1,1,1\n",
    "# (anchor, negative) => 0,0,0,0,0"
   ]
  },
  {
   "cell_type": "code",
   "execution_count": 51,
   "id": "c2e88ccd",
   "metadata": {},
   "outputs": [],
   "source": [
    "positives = tf.data.Dataset.zip((anchor, positive, tf.data.Dataset.from_tensor_slices(tf.ones(len(anchor)))))\n",
    "negatives = tf.data.Dataset.zip((anchor, negative, tf.data.Dataset.from_tensor_slices(tf.zeros(len(anchor)))))\n",
    "data = positives.concatenate(negatives)"
   ]
  },
  {
   "cell_type": "code",
   "execution_count": 52,
   "id": "9a4e2e39",
   "metadata": {},
   "outputs": [],
   "source": [
    "samples = data.as_numpy_iterator()"
   ]
  },
  {
   "cell_type": "code",
   "execution_count": 53,
   "id": "e99ba3d6",
   "metadata": {},
   "outputs": [],
   "source": [
    "exampple = samples.next()"
   ]
  },
  {
   "cell_type": "code",
   "execution_count": 54,
   "id": "ed65d8e5",
   "metadata": {},
   "outputs": [
    {
     "data": {
      "text/plain": [
       "(b'data\\\\anchor\\\\8ecfd04c-c7c4-11ec-bc98-2c8db1d65e0b.jpg',\n",
       " b'data\\\\positive\\\\8884e1a0-c7c4-11ec-b458-2c8db1d65e0b.jpg',\n",
       " 1.0)"
      ]
     },
     "execution_count": 54,
     "metadata": {},
     "output_type": "execute_result"
    }
   ],
   "source": [
    "exampple"
   ]
  },
  {
   "cell_type": "markdown",
   "id": "3715140b",
   "metadata": {},
   "source": [
    "## 3.4 Build Train and Test Partition"
   ]
  },
  {
   "cell_type": "code",
   "execution_count": 63,
   "id": "f2ae9702",
   "metadata": {},
   "outputs": [],
   "source": [
    "def preprocess_twin(input_img, validation_img, label):\n",
    "    return(preprocess(input_img), preprocess(validation_img), label)"
   ]
  },
  {
   "cell_type": "code",
   "execution_count": 64,
   "id": "8e3db171",
   "metadata": {},
   "outputs": [],
   "source": [
    "res = preprocess_twin(*exampple)"
   ]
  },
  {
   "cell_type": "code",
   "execution_count": 65,
   "id": "ea23482a",
   "metadata": {},
   "outputs": [
    {
     "data": {
      "text/plain": [
       "<matplotlib.image.AxesImage at 0x21f93ea3100>"
      ]
     },
     "execution_count": 65,
     "metadata": {},
     "output_type": "execute_result"
    },
    {
     "data": {
      "image/png": "[encoded data removed]",
      "text/plain": [
       "<Figure size 432x288 with 1 Axes>"
      ]
     },
     "metadata": {
      "needs_background": "light"
     },
     "output_type": "display_data"
    }
   ],
   "source": [
    "plt.imshow(res[1])"
   ]
  },
  {
   "cell_type": "code",
   "execution_count": 66,
   "id": "af05a785",
   "metadata": {},
   "outputs": [
    {
     "data": {
      "text/plain": [
       "1.0"
      ]
     },
     "execution_count": 66,
     "metadata": {},
     "output_type": "execute_result"
    }
   ],
   "source": [
    "res[2]"
   ]
  },
  {
   "cell_type": "code",
   "execution_count": 67,
   "id": "07040494",
   "metadata": {},
   "outputs": [],
   "source": [
    "# Build dataloader pipeline\n",
    "data = data.map(preprocess_twin)\n",
    "data = data.cache()\n",
    "data = data.shuffle(buffer_size=10000)"
   ]
  },
  {
   "cell_type": "code",
   "execution_count": 68,
   "id": "170492f4",
   "metadata": {},
   "outputs": [],
   "source": [
    "# Training partition\n",
    "train_data = data.take(round(len(data)*.7))\n",
    "train_data = train_data.batch(16)\n",
    "train_data = train_data.prefetch(8)"
   ]
  },
  {
   "cell_type": "code",
   "execution_count": 69,
   "id": "e3239333",
   "metadata": {},
   "outputs": [],
   "source": [
    "# Testing partition\n",
    "test_data = data.skip(round(len(data)*.7))\n",
    "test_data = test_data.take(round(len(data)*.3))\n",
    "test_data = test_data.batch(16)\n",
    "test_data = test_data.prefetch(8)"
   ]
  },
  {
   "cell_type": "markdown",
   "id": "98c84dc2",
   "metadata": {},
   "source": [
    "# 4. Model Engineering"
   ]
  },
  {
   "cell_type": "markdown",
   "id": "91643739",
   "metadata": {},
   "source": [
    "## 4.1 Build Embedding Layer"
   ]
  },
  {
   "cell_type": "code",
   "execution_count": 70,
   "id": "8c2e70f6",
   "metadata": {},
   "outputs": [],
   "source": [
    "inp = Input(shape=(100,100,3))\n"
   ]
  },
  {
   "cell_type": "code",
   "execution_count": 71,
   "id": "526e539d",
   "metadata": {},
   "outputs": [],
   "source": [
    "c1 = Conv2D(64, (10,10), activation='relu')(inp)"
   ]
  },
  {
   "cell_type": "code",
   "execution_count": 72,
   "id": "644f2bad",
   "metadata": {},
   "outputs": [],
   "source": [
    "m1 = MaxPooling2D(64, (2,2), padding='same')(c1)"
   ]
  },
  {
   "cell_type": "code",
   "execution_count": 73,
   "id": "1eb92ad8",
   "metadata": {},
   "outputs": [],
   "source": [
    "c2 = Conv2D(128, (7,7), activation='relu')(m1)\n",
    "m2 = MaxPooling2D(64, (2,2), padding='same')(c2)"
   ]
  },
  {
   "cell_type": "code",
   "execution_count": 74,
   "id": "d2a654d3",
   "metadata": {},
   "outputs": [],
   "source": [
    "c3 = Conv2D(128, (4,4), activation='relu')(m2)\n",
    "m3 = MaxPooling2D(64, (2,2), padding='same')(c3)"
   ]
  },
  {
   "cell_type": "code",
   "execution_count": 75,
   "id": "0d5c30c2",
   "metadata": {},
   "outputs": [],
   "source": [
    "c4 = Conv2D(256, (4,4), activation='relu')(m3)\n",
    "f1 = Flatten()(c4)\n",
    "d1 = Dense(4096, activation='sigmoid')(f1)"
   ]
  },
  {
   "cell_type": "code",
   "execution_count": 76,
   "id": "3a481382",
   "metadata": {},
   "outputs": [],
   "source": [
    "mod = Model(inputs=[inp], outputs=[d1], name='embedding')"
   ]
  },
  {
   "cell_type": "code",
   "execution_count": 77,
   "id": "49039a99",
   "metadata": {},
   "outputs": [
    {
     "name": "stdout",
     "output_type": "stream",
     "text": [
      "Model: \"embedding\"\n",
      "_________________________________________________________________\n",
      "Layer (type)                 Output Shape              Param #   \n",
      "=================================================================\n",
      "input_1 (InputLayer)         [(None, 100, 100, 3)]     0         \n",
      "_________________________________________________________________\n",
      "conv2d (Conv2D)              (None, 91, 91, 64)        19264     \n",
      "_________________________________________________________________\n",
      "max_pooling2d (MaxPooling2D) (None, 46, 46, 64)        0         \n",
      "_________________________________________________________________\n",
      "conv2d_1 (Conv2D)            (None, 40, 40, 128)       401536    \n",
      "_________________________________________________________________\n",
      "max_pooling2d_1 (MaxPooling2 (None, 20, 20, 128)       0         \n",
      "_________________________________________________________________\n",
      "conv2d_2 (Conv2D)            (None, 17, 17, 128)       262272    \n",
      "_________________________________________________________________\n",
      "max_pooling2d_2 (MaxPooling2 (None, 9, 9, 128)         0         \n",
      "_________________________________________________________________\n",
      "conv2d_3 (Conv2D)            (None, 6, 6, 256)         524544    \n",
      "_________________________________________________________________\n",
      "flatten (Flatten)            (None, 9216)              0         \n",
      "_________________________________________________________________\n",
      "dense (Dense)                (None, 4096)              37752832  \n",
      "=================================================================\n",
      "Total params: 38,960,448\n",
      "Trainable params: 38,960,448\n",
      "Non-trainable params: 0\n",
      "_________________________________________________________________\n"
     ]
    }
   ],
   "source": [
    "mod.summary()"
   ]
  },
  {
   "cell_type": "code",
   "execution_count": 78,
   "id": "d1fa88f4",
   "metadata": {},
   "outputs": [],
   "source": [
    "def make_embedding(): \n",
    "    inp = Input(shape=(100,100,3), name='input_image')\n",
    "    \n",
    "    # First block\n",
    "    c1 = Conv2D(64, (10,10), activation='relu')(inp)\n",
    "    m1 = MaxPooling2D(64, (2,2), padding='same')(c1)\n",
    "    \n",
    "    # Second block\n",
    "    c2 = Conv2D(128, (7,7), activation='relu')(m1)\n",
    "    m2 = MaxPooling2D(64, (2,2), padding='same')(c2)\n",
    "    \n",
    "    # Third block \n",
    "    c3 = Conv2D(128, (4,4), activation='relu')(m2)\n",
    "    m3 = MaxPooling2D(64, (2,2), padding='same')(c3)\n",
    "    \n",
    "    # Final embedding block\n",
    "    c4 = Conv2D(256, (4,4), activation='relu')(m3)\n",
    "    f1 = Flatten()(c4)\n",
    "    d1 = Dense(4096, activation='sigmoid')(f1)\n",
    "    \n",
    "    \n",
    "    return Model(inputs=[inp], outputs=[d1], name='embedding')"
   ]
  },
  {
   "cell_type": "code",
   "execution_count": 79,
   "id": "08aa07c9",
   "metadata": {},
   "outputs": [],
   "source": [
    "embedding = make_embedding()"
   ]
  },
  {
   "cell_type": "code",
   "execution_count": 80,
   "id": "689f12ef",
   "metadata": {},
   "outputs": [
    {
     "name": "stdout",
     "output_type": "stream",
     "text": [
      "Model: \"embedding\"\n",
      "_________________________________________________________________\n",
      "Layer (type)                 Output Shape              Param #   \n",
      "=================================================================\n",
      "input_image (InputLayer)     [(None, 100, 100, 3)]     0         \n",
      "_________________________________________________________________\n",
      "conv2d_4 (Conv2D)            (None, 91, 91, 64)        19264     \n",
      "_________________________________________________________________\n",
      "max_pooling2d_3 (MaxPooling2 (None, 46, 46, 64)        0         \n",
      "_________________________________________________________________\n",
      "conv2d_5 (Conv2D)            (None, 40, 40, 128)       401536    \n",
      "_________________________________________________________________\n",
      "max_pooling2d_4 (MaxPooling2 (None, 20, 20, 128)       0         \n",
      "_________________________________________________________________\n",
      "conv2d_6 (Conv2D)            (None, 17, 17, 128)       262272    \n",
      "_________________________________________________________________\n",
      "max_pooling2d_5 (MaxPooling2 (None, 9, 9, 128)         0         \n",
      "_________________________________________________________________\n",
      "conv2d_7 (Conv2D)            (None, 6, 6, 256)         524544    \n",
      "_________________________________________________________________\n",
      "flatten_1 (Flatten)          (None, 9216)              0         \n",
      "_________________________________________________________________\n",
      "dense_1 (Dense)              (None, 4096)              37752832  \n",
      "=================================================================\n",
      "Total params: 38,960,448\n",
      "Trainable params: 38,960,448\n",
      "Non-trainable params: 0\n",
      "_________________________________________________________________\n"
     ]
    }
   ],
   "source": [
    "embedding.summary()"
   ]
  },
  {
   "cell_type": "markdown",
   "id": "a797a4d7",
   "metadata": {},
   "source": [
    "# 4.2 Build Distance Layer\n"
   ]
  },
  {
   "cell_type": "code",
   "execution_count": 89,
   "id": "ec3e1ab5",
   "metadata": {},
   "outputs": [],
   "source": [
    "# Siamese L1 Distance class\n",
    "class L1Dist(Layer):\n",
    "    \n",
    "    # Init method - inheritance\n",
    "    def __init__(self, **kwargs):\n",
    "        super().__init__()\n",
    "       \n",
    "    # Magic happens here - similarity calculation\n",
    "    def call(self, input_embedding, validation_embedding):\n",
    "        return tf.math.abs(input_embedding - validation_embedding)"
   ]
  },
  {
   "cell_type": "code",
   "execution_count": 90,
   "id": "61f08c75",
   "metadata": {},
   "outputs": [],
   "source": [
    "l1 = L1Dist()"
   ]
  },
  {
   "cell_type": "code",
   "execution_count": 91,
   "id": "04712041",
   "metadata": {},
   "outputs": [
    {
     "ename": "NameError",
     "evalue": "name 'anchor_embedding' is not defined",
     "output_type": "error",
     "traceback": [
      "\u001b[1;31m---------------------------------------------------------------------------\u001b[0m",
      "\u001b[1;31mNameError\u001b[0m                                 Traceback (most recent call last)",
      "\u001b[1;32mC:\\Users\\AKRITI~1.PAN\\AppData\\Local\\Temp/ipykernel_13756/3877395630.py\u001b[0m in \u001b[0;36m<module>\u001b[1;34m\u001b[0m\n\u001b[1;32m----> 1\u001b[1;33m \u001b[0ml1\u001b[0m\u001b[1;33m(\u001b[0m\u001b[0manchor_embedding\u001b[0m\u001b[1;33m,\u001b[0m \u001b[0mvalidation_embedding\u001b[0m\u001b[1;33m)\u001b[0m\u001b[1;33m\u001b[0m\u001b[1;33m\u001b[0m\u001b[0m\n\u001b[0m",
      "\u001b[1;31mNameError\u001b[0m: name 'anchor_embedding' is not defined"
     ]
    }
   ],
   "source": [
    "l1(anchor_embedding, validation_embedding)"
   ]
  },
  {
   "cell_type": "markdown",
   "id": "52a5ec9f",
   "metadata": {},
   "source": [
    "# 4.3 Make Siamese Model"
   ]
  },
  {
   "cell_type": "code",
   "execution_count": 92,
   "id": "a4ad29e4",
   "metadata": {},
   "outputs": [],
   "source": [
    "input_image = Input(name='input_img', shape=(100,100,3))\n",
    "validation_image = Input(name='validation_img', shape=(100,100,3))"
   ]
  },
  {
   "cell_type": "code",
   "execution_count": 93,
   "id": "3bf91746",
   "metadata": {},
   "outputs": [],
   "source": [
    "inp_embedding = embedding(input_image)\n",
    "val_embedding = embedding(validation_image)"
   ]
  },
  {
   "cell_type": "code",
   "execution_count": 94,
   "id": "d3b7385c",
   "metadata": {},
   "outputs": [],
   "source": [
    "siamese_layer = L1Dist()"
   ]
  },
  {
   "cell_type": "code",
   "execution_count": 95,
   "id": "fc5d912c",
   "metadata": {},
   "outputs": [],
   "source": [
    "distances = siamese_layer(inp_embedding, val_embedding)"
   ]
  },
  {
   "cell_type": "code",
   "execution_count": 96,
   "id": "cfff8c86",
   "metadata": {},
   "outputs": [],
   "source": [
    "classifier = Dense(1, activation='sigmoid')(distances)"
   ]
  },
  {
   "cell_type": "code",
   "execution_count": 97,
   "id": "87a3e95a",
   "metadata": {},
   "outputs": [
    {
     "data": {
      "text/plain": [
       "<KerasTensor: shape=(None, 1) dtype=float32 (created by layer 'dense_2')>"
      ]
     },
     "execution_count": 97,
     "metadata": {},
     "output_type": "execute_result"
    }
   ],
   "source": [
    "classifier"
   ]
  },
  {
   "cell_type": "code",
   "execution_count": 98,
   "id": "bb008bf8",
   "metadata": {},
   "outputs": [],
   "source": [
    "siamese_network = Model(inputs=[input_image, validation_image], outputs=classifier, name='SiameseNetwork')"
   ]
  },
  {
   "cell_type": "code",
   "execution_count": 99,
   "id": "87fdc40e",
   "metadata": {},
   "outputs": [
    {
     "name": "stdout",
     "output_type": "stream",
     "text": [
      "Model: \"SiameseNetwork\"\n",
      "__________________________________________________________________________________________________\n",
      "Layer (type)                    Output Shape         Param #     Connected to                     \n",
      "==================================================================================================\n",
      "input_img (InputLayer)          [(None, 100, 100, 3) 0                                            \n",
      "__________________________________________________________________________________________________\n",
      "validation_img (InputLayer)     [(None, 100, 100, 3) 0                                            \n",
      "__________________________________________________________________________________________________\n",
      "embedding (Functional)          (None, 4096)         38960448    input_img[0][0]                  \n",
      "                                                                 validation_img[0][0]             \n",
      "__________________________________________________________________________________________________\n",
      "l1_dist_3 (L1Dist)              (None, 4096)         0           embedding[0][0]                  \n",
      "                                                                 embedding[1][0]                  \n",
      "__________________________________________________________________________________________________\n",
      "dense_2 (Dense)                 (None, 1)            4097        l1_dist_3[0][0]                  \n",
      "==================================================================================================\n",
      "Total params: 38,964,545\n",
      "Trainable params: 38,964,545\n",
      "Non-trainable params: 0\n",
      "__________________________________________________________________________________________________\n"
     ]
    }
   ],
   "source": [
    "siamese_network.summary()"
   ]
  },
  {
   "cell_type": "code",
   "execution_count": 100,
   "id": "9dcde773",
   "metadata": {},
   "outputs": [],
   "source": [
    "def make_siamese_model(): \n",
    "    \n",
    "    # Anchor image input in the network\n",
    "    input_image = Input(name='input_img', shape=(100,100,3))\n",
    "    \n",
    "    # Validation image in the network \n",
    "    validation_image = Input(name='validation_img', shape=(100,100,3))\n",
    "    \n",
    "    # Combine siamese distance components\n",
    "    siamese_layer = L1Dist()\n",
    "    siamese_layer._name = 'distance'\n",
    "    distances = siamese_layer(embedding(input_image), embedding(validation_image))\n",
    "    \n",
    "    # Classification layer \n",
    "    classifier = Dense(1, activation='sigmoid')(distances)\n",
    "    \n",
    "    return Model(inputs=[input_image, validation_image], outputs=classifier, name='SiameseNetwork')"
   ]
  },
  {
   "cell_type": "code",
   "execution_count": 101,
   "id": "2ea74dc0",
   "metadata": {},
   "outputs": [],
   "source": [
    "siamese_model = make_siamese_model()"
   ]
  },
  {
   "cell_type": "code",
   "execution_count": 102,
   "id": "782ee690",
   "metadata": {},
   "outputs": [
    {
     "name": "stdout",
     "output_type": "stream",
     "text": [
      "Model: \"SiameseNetwork\"\n",
      "__________________________________________________________________________________________________\n",
      "Layer (type)                    Output Shape         Param #     Connected to                     \n",
      "==================================================================================================\n",
      "input_img (InputLayer)          [(None, 100, 100, 3) 0                                            \n",
      "__________________________________________________________________________________________________\n",
      "validation_img (InputLayer)     [(None, 100, 100, 3) 0                                            \n",
      "__________________________________________________________________________________________________\n",
      "embedding (Functional)          (None, 4096)         38960448    input_img[0][0]                  \n",
      "                                                                 validation_img[0][0]             \n",
      "__________________________________________________________________________________________________\n",
      "distance (L1Dist)               (None, 4096)         0           embedding[2][0]                  \n",
      "                                                                 embedding[3][0]                  \n",
      "__________________________________________________________________________________________________\n",
      "dense_3 (Dense)                 (None, 1)            4097        distance[0][0]                   \n",
      "==================================================================================================\n",
      "Total params: 38,964,545\n",
      "Trainable params: 38,964,545\n",
      "Non-trainable params: 0\n",
      "__________________________________________________________________________________________________\n"
     ]
    }
   ],
   "source": [
    "siamese_model.summary()"
   ]
  },
  {
   "cell_type": "markdown",
   "id": "bc5fd583",
   "metadata": {},
   "source": [
    "# 5. Training"
   ]
  },
  {
   "cell_type": "markdown",
   "id": "058a6507",
   "metadata": {},
   "source": [
    "## 5.1 Setup Loss and Optimizer "
   ]
  },
  {
   "cell_type": "code",
   "execution_count": 103,
   "id": "a17bd249",
   "metadata": {},
   "outputs": [],
   "source": [
    "binary_cross_loss = tf.losses.BinaryCrossentropy()"
   ]
  },
  {
   "cell_type": "code",
   "execution_count": 104,
   "id": "e7336c85",
   "metadata": {},
   "outputs": [],
   "source": [
    "opt = tf.keras.optimizers.Adam(1e-4) # 0.0001"
   ]
  },
  {
   "cell_type": "markdown",
   "id": "0c6b41f8",
   "metadata": {},
   "source": [
    "## 5.2 Establish Checkpoints"
   ]
  },
  {
   "cell_type": "code",
   "execution_count": 105,
   "id": "5b46442d",
   "metadata": {},
   "outputs": [],
   "source": [
    "checkpoint_dir = './training_checkpoints'\n",
    "checkpoint_prefix = os.path.join(checkpoint_dir, 'ckpt')\n",
    "checkpoint = tf.train.Checkpoint(opt=opt, siamese_model=siamese_model)"
   ]
  },
  {
   "cell_type": "markdown",
   "id": "b84df80a",
   "metadata": {},
   "source": [
    "# 5.3 Build Train Step Function "
   ]
  },
  {
   "cell_type": "code",
   "execution_count": 106,
   "id": "e785e9e8",
   "metadata": {},
   "outputs": [],
   "source": [
    "test_batch = train_data.as_numpy_iterator()"
   ]
  },
  {
   "cell_type": "code",
   "execution_count": 107,
   "id": "cf5e385e",
   "metadata": {},
   "outputs": [],
   "source": [
    "batch_1 = test_batch.next()"
   ]
  },
  {
   "cell_type": "code",
   "execution_count": 108,
   "id": "56d00e7f",
   "metadata": {},
   "outputs": [],
   "source": [
    "X = batch_1[:2]"
   ]
  },
  {
   "cell_type": "code",
   "execution_count": 109,
   "id": "0db79308",
   "metadata": {},
   "outputs": [],
   "source": [
    "y = batch_1[2]"
   ]
  },
  {
   "cell_type": "code",
   "execution_count": 110,
   "id": "f85e020a",
   "metadata": {},
   "outputs": [
    {
     "data": {
      "text/plain": [
       "array([1., 1., 1., 0., 1., 1., 0., 1., 1., 0., 0., 1., 0., 0., 1., 0.],\n",
       "      dtype=float32)"
      ]
     },
     "execution_count": 110,
     "metadata": {},
     "output_type": "execute_result"
    }
   ],
   "source": [
    "y"
   ]
  },
  {
   "cell_type": "code",
   "execution_count": 111,
   "id": "7bb168a8",
   "metadata": {},
   "outputs": [],
   "source": [
    "tf.losses.BinaryCrossentropy??"
   ]
  },
  {
   "cell_type": "markdown",
   "id": "36d2be3e",
   "metadata": {},
   "source": [
    "Init signature:\n",
    "tf.losses.BinaryCrossentropy(\n",
    "    from_logits=False,\n",
    "    label_smoothing=0,\n",
    "    axis=-1,\n",
    "    reduction='auto',\n",
    "    name='binary_crossentropy',\n",
    ")\n",
    "Source:        \n",
    "@keras_export('keras.losses.BinaryCrossentropy')\n",
    "class BinaryCrossentropy(LossFunctionWrapper):\n",
    "  \"\"\"Computes the cross-entropy loss between true labels and predicted labels.\n",
    "\n",
    "  Use this cross-entropy loss for binary (0 or 1) classification applications.\n",
    "  The loss function requires the following inputs:\n",
    "\n",
    "  - `y_true` (true label): This is either 0 or 1.\n",
    "  - `y_pred` (predicted value): This is the model's prediction, i.e, a single\n",
    "    floating-point value which either represents a\n",
    "    [logit](https://en.wikipedia.org/wiki/Logit), (i.e, value in [-inf, inf]\n",
    "    when `from_logits=True`) or a probability (i.e, value in [0., 1.] when\n",
    "    `from_logits=False`)."
   ]
  },
  {
   "cell_type": "code",
   "execution_count": 112,
   "id": "0e872e0b",
   "metadata": {},
   "outputs": [],
   "source": [
    "@tf.function\n",
    "def train_step(batch):\n",
    "    \n",
    "    # Record all of our operations \n",
    "    with tf.GradientTape() as tape:     \n",
    "        # Get anchor and positive/negative image\n",
    "        X = batch[:2]\n",
    "        # Get label\n",
    "        y = batch[2]\n",
    "        \n",
    "        # Forward pass\n",
    "        yhat = siamese_model(X, training=True)\n",
    "        # Calculate loss\n",
    "        loss = binary_cross_loss(y, yhat)\n",
    "    print(loss)\n",
    "        \n",
    "    # Calculate gradients\n",
    "    grad = tape.gradient(loss, siamese_model.trainable_variables)\n",
    "    \n",
    "    # Calculate updated weights and apply to siamese model\n",
    "    opt.apply_gradients(zip(grad, siamese_model.trainable_variables))\n",
    "        \n",
    "    # Return loss\n",
    "    return loss"
   ]
  },
  {
   "cell_type": "markdown",
   "id": "7e2f1eb9",
   "metadata": {},
   "source": [
    "# 5.4 Build Training Loop"
   ]
  },
  {
   "cell_type": "code",
   "execution_count": 113,
   "id": "54b3603b",
   "metadata": {},
   "outputs": [],
   "source": [
    "# Import metric calculations\n",
    "from tensorflow.keras.metrics import Precision, Recall"
   ]
  },
  {
   "cell_type": "code",
   "execution_count": 114,
   "id": "931cdf93",
   "metadata": {},
   "outputs": [],
   "source": [
    "def train(data, EPOCHS):\n",
    "    # Loop through epochs\n",
    "    for epoch in range(1, EPOCHS+1):\n",
    "        print('\\n Epoch {}/{}'.format(epoch, EPOCHS))\n",
    "        progbar = tf.keras.utils.Progbar(len(data))\n",
    "        \n",
    "        # Creating a metric object \n",
    "        r = Recall()\n",
    "        p = Precision()\n",
    "        \n",
    "        # Loop through each batch\n",
    "        for idx, batch in enumerate(data):\n",
    "            # Run train step here\n",
    "            loss = train_step(batch)\n",
    "            yhat = siamese_model.predict(batch[:2])\n",
    "            r.update_state(batch[2], yhat)\n",
    "            p.update_state(batch[2], yhat) \n",
    "            progbar.update(idx+1)\n",
    "        print(loss.numpy(), r.result().numpy(), p.result().numpy())\n",
    "        \n",
    "        # Save checkpoints\n",
    "        if epoch % 10 == 0: \n",
    "            checkpoint.save(file_prefix=checkpoint_prefix)"
   ]
  },
  {
   "cell_type": "markdown",
   "id": "63277dc9",
   "metadata": {},
   "source": [
    "# 5.5 Train the model"
   ]
  },
  {
   "cell_type": "code",
   "execution_count": 115,
   "id": "28d32519",
   "metadata": {},
   "outputs": [
    {
     "name": "stdout",
     "output_type": "stream",
     "text": [
      "Requirement already satisfied: tensorflow-estimator==2.6.0 in c:\\users\\akriti.pandey\\anaconda3\\envs\\tensorflow\\lib\\site-packages (2.6.0)\n"
     ]
    }
   ],
   "source": [
    "!pip install tensorflow-estimator==2.6.0"
   ]
  },
  {
   "cell_type": "code",
   "execution_count": 116,
   "id": "0c2d012f",
   "metadata": {},
   "outputs": [],
   "source": [
    "EPOCHS = 50"
   ]
  },
  {
   "cell_type": "code",
   "execution_count": 117,
   "id": "103fecd5",
   "metadata": {},
   "outputs": [
    {
     "name": "stdout",
     "output_type": "stream",
     "text": [
      "\n",
      " Epoch 1/50\n",
      "Tensor(\"binary_crossentropy/weighted_loss/value:0\", shape=(), dtype=float32)\n",
      "Tensor(\"binary_crossentropy/weighted_loss/value:0\", shape=(), dtype=float32)\n",
      "7/8 [=========================>....] - ETA: 27sTensor(\"binary_crossentropy/weighted_loss/value:0\", shape=(), dtype=float32)\n",
      "8/8 [==============================] - 211s 26s/step\n",
      "0.39668888 0.43103448 1.0\n",
      "\n",
      " Epoch 2/50\n",
      "8/8 [==============================] - 216s 27s/step\n",
      "0.55796033 0.56060606 1.0\n",
      "\n",
      " Epoch 3/50\n",
      "8/8 [==============================] - 230s 29s/step\n",
      "0.17372811 0.98275864 1.0\n",
      "\n",
      " Epoch 4/50\n",
      "8/8 [==============================] - 224s 28s/step\n",
      "0.09144531 1.0 1.0\n",
      "\n",
      " Epoch 5/50\n",
      "8/8 [==============================] - 226s 28s/step\n",
      "0.036077 0.9830508 1.0\n",
      "\n",
      " Epoch 6/50\n",
      "8/8 [==============================] - 216s 27s/step\n",
      "0.021641064 1.0 1.0\n",
      "\n",
      " Epoch 7/50\n",
      "8/8 [==============================] - 216s 27s/step\n",
      "0.039018974 1.0 1.0\n",
      "\n",
      " Epoch 8/50\n",
      "8/8 [==============================] - 336s 44s/step\n",
      "0.0039653447 0.9830508 1.0\n",
      "\n",
      " Epoch 9/50\n",
      "8/8 [==============================] - 400s 50s/step\n",
      "0.013037753 0.983871 1.0\n",
      "\n",
      " Epoch 10/50\n",
      "8/8 [==============================] - 425s 53s/step\n",
      "0.010173952 1.0 1.0\n",
      "\n",
      " Epoch 11/50\n",
      "8/8 [==============================] - 455s 56s/step\n",
      "0.002534879 1.0 1.0\n",
      "\n",
      " Epoch 12/50\n",
      "8/8 [==============================] - 435s 54s/step\n",
      "0.015806338 1.0 1.0\n",
      "\n",
      " Epoch 13/50\n",
      "8/8 [==============================] - 408s 51s/step\n",
      "0.000103990955 1.0 1.0\n",
      "\n",
      " Epoch 14/50\n",
      "8/8 [==============================] - 438s 55s/step\n",
      "0.00021427652 1.0 1.0\n",
      "\n",
      " Epoch 15/50\n",
      "8/8 [==============================] - 435s 49s/step\n",
      "0.00017838126 1.0 1.0\n",
      "\n",
      " Epoch 16/50\n",
      "8/8 [==============================] - 380s 47s/step\n",
      "0.004725682 1.0 1.0\n",
      "\n",
      " Epoch 17/50\n",
      "8/8 [==============================] - 372s 46s/step\n",
      "0.00018782436 1.0 1.0\n",
      "\n",
      " Epoch 18/50\n",
      "8/8 [==============================] - 360s 45s/step\n",
      "0.00026977007 1.0 1.0\n",
      "\n",
      " Epoch 19/50\n",
      "8/8 [==============================] - 356s 44s/step\n",
      "0.0047339154 1.0 1.0\n",
      "\n",
      " Epoch 20/50\n",
      "8/8 [==============================] - 347s 43s/step\n",
      "0.0016583257 1.0 1.0\n",
      "\n",
      " Epoch 21/50\n",
      "8/8 [==============================] - 344s 43s/step\n",
      "0.00013652265 1.0 1.0\n",
      "\n",
      " Epoch 22/50\n",
      "8/8 [==============================] - 344s 43s/step\n",
      "0.0055640927 1.0 1.0\n",
      "\n",
      " Epoch 23/50\n",
      "8/8 [==============================] - 349s 43s/step\n",
      "2.3229313e-05 1.0 1.0\n",
      "\n",
      " Epoch 24/50\n",
      "8/8 [==============================] - 345s 43s/step\n",
      "0.0009790292 1.0 1.0\n",
      "\n",
      " Epoch 25/50\n",
      "8/8 [==============================] - 353s 44s/step\n",
      "1.192093e-08 1.0 1.0\n",
      "\n",
      " Epoch 26/50\n",
      "8/8 [==============================] - 376s 47s/step\n",
      "0.00088626455 1.0 1.0\n",
      "\n",
      " Epoch 27/50\n",
      "8/8 [==============================] - 377s 47s/step\n",
      "0.00015017156 1.0 1.0\n",
      "\n",
      " Epoch 28/50\n",
      "8/8 [==============================] - 375s 46s/step\n",
      "0.0011447414 1.0 1.0\n",
      "\n",
      " Epoch 29/50\n",
      "8/8 [==============================] - 414s 51s/step\n",
      "0.0009389197 1.0 1.0\n",
      "\n",
      " Epoch 30/50\n",
      "8/8 [==============================] - 427s 53s/step\n",
      "4.904787e-05 1.0 1.0\n",
      "\n",
      " Epoch 31/50\n",
      "8/8 [==============================] - 3424s 482s/step\n",
      "0.00022716195 1.0 1.0\n",
      "\n",
      " Epoch 32/50\n",
      "8/8 [==============================] - 359s 44s/step\n",
      "0.001967861 1.0 1.0\n",
      "\n",
      " Epoch 33/50\n",
      "8/8 [==============================] - 355s 44s/step\n",
      "5.995931e-05 1.0 1.0\n",
      "\n",
      " Epoch 34/50\n",
      "8/8 [==============================] - 358s 44s/step\n",
      "1.2618574e-05 1.0 1.0\n",
      "\n",
      " Epoch 35/50\n",
      "8/8 [==============================] - 346s 43s/step\n",
      "1.9669542e-07 1.0 1.0\n",
      "\n",
      " Epoch 36/50\n",
      "8/8 [==============================] - 376s 47s/step\n",
      "0.005348708 1.0 1.0\n",
      "\n",
      " Epoch 37/50\n",
      "8/8 [==============================] - 422s 52s/step\n",
      "0.000116887015 1.0 1.0\n",
      "\n",
      " Epoch 38/50\n",
      "8/8 [==============================] - 1223s 167s/step\n",
      "0.0004227204 1.0 1.0\n",
      "\n",
      " Epoch 39/50\n",
      "8/8 [==============================] - 366s 44s/step\n",
      "0.000777346 1.0 1.0\n",
      "\n",
      " Epoch 40/50\n",
      "8/8 [==============================] - 362s 45s/step\n",
      "0.00050239393 1.0 1.0\n",
      "\n",
      " Epoch 41/50\n",
      "8/8 [==============================] - 435s 55s/step\n",
      "6.506739e-05 1.0 1.0\n",
      "\n",
      " Epoch 42/50\n",
      "8/8 [==============================] - 349s 44s/step\n",
      "0.0014055714 1.0 1.0\n",
      "\n",
      " Epoch 43/50\n",
      "8/8 [==============================] - 351s 44s/step\n",
      "2.2663276e-05 1.0 1.0\n",
      "\n",
      " Epoch 44/50\n",
      "8/8 [==============================] - 365s 45s/step\n",
      "8.344652e-08 1.0 1.0\n",
      "\n",
      " Epoch 45/50\n",
      "8/8 [==============================] - 362s 45s/step\n",
      "0.0012403084 1.0 1.0\n",
      "\n",
      " Epoch 46/50\n",
      "8/8 [==============================] - 359s 44s/step\n",
      "3.4570752e-07 1.0 1.0\n",
      "\n",
      " Epoch 47/50\n",
      "8/8 [==============================] - 343s 42s/step\n",
      "7.157609e-05 1.0 1.0\n",
      "\n",
      " Epoch 48/50\n",
      "8/8 [==============================] - 344s 43s/step\n",
      "1.162296e-06 1.0 1.0\n",
      "\n",
      " Epoch 49/50\n",
      "8/8 [==============================] - 355s 44s/step\n",
      "1.5497268e-06 1.0 1.0\n",
      "\n",
      " Epoch 50/50\n",
      "8/8 [==============================] - 256s 31s/step\n",
      "1.1408815e-05 1.0 1.0\n"
     ]
    }
   ],
   "source": [
    "train(train_data, EPOCHS)"
   ]
  },
  {
   "cell_type": "markdown",
   "id": "9cd3ace5",
   "metadata": {},
   "source": [
    "# 6. Evaluate Model"
   ]
  },
  {
   "cell_type": "markdown",
   "id": "0b8e6479",
   "metadata": {},
   "source": [
    "## 6.1 Import Metrics"
   ]
  },
  {
   "cell_type": "code",
   "execution_count": 118,
   "id": "9ccf2d8a",
   "metadata": {},
   "outputs": [],
   "source": [
    "# Import metric calculations\n",
    "from tensorflow.keras.metrics import Precision, Recall"
   ]
  },
  {
   "cell_type": "markdown",
   "id": "b023ca0a",
   "metadata": {},
   "source": [
    "## 6.2 Make Predictions"
   ]
  },
  {
   "cell_type": "code",
   "execution_count": 119,
   "id": "008cf937",
   "metadata": {},
   "outputs": [],
   "source": [
    "# Get a batch of test data\n",
    "test_input, test_val, y_true = test_data.as_numpy_iterator().next()"
   ]
  },
  {
   "cell_type": "code",
   "execution_count": 120,
   "id": "a8908ac5",
   "metadata": {},
   "outputs": [],
   "source": [
    "y_hat = siamese_model.predict([test_input, test_val])"
   ]
  },
  {
   "cell_type": "code",
   "execution_count": 121,
   "id": "7c4535bb",
   "metadata": {},
   "outputs": [
    {
     "data": {
      "text/plain": [
       "[1, 1, 1, 0, 0, 0, 0, 0, 1, 1, 1, 0, 1, 1, 0, 1]"
      ]
     },
     "execution_count": 121,
     "metadata": {},
     "output_type": "execute_result"
    }
   ],
   "source": [
    "# Post processing the results \n",
    "[1 if prediction > 0.5 else 0 for prediction in y_hat ]"
   ]
  },
  {
   "cell_type": "code",
   "execution_count": 122,
   "id": "829bd51e",
   "metadata": {},
   "outputs": [
    {
     "data": {
      "text/plain": [
       "array([1., 1., 1., 0., 0., 0., 0., 0., 1., 1., 1., 0., 1., 1., 0., 1.],\n",
       "      dtype=float32)"
      ]
     },
     "execution_count": 122,
     "metadata": {},
     "output_type": "execute_result"
    }
   ],
   "source": [
    "y_true"
   ]
  },
  {
   "cell_type": "markdown",
   "id": "028e9d8c",
   "metadata": {},
   "source": [
    "# 6.3 Calculate Metrics"
   ]
  },
  {
   "cell_type": "code",
   "execution_count": 123,
   "id": "41392ab0",
   "metadata": {},
   "outputs": [
    {
     "data": {
      "text/plain": [
       "1.0"
      ]
     },
     "execution_count": 123,
     "metadata": {},
     "output_type": "execute_result"
    }
   ],
   "source": [
    "# Creating a metric object \n",
    "m = Recall()\n",
    "\n",
    "# Calculating the recall value \n",
    "m.update_state(y_true, y_hat)\n",
    "\n",
    "# Return Recall Result\n",
    "m.result().numpy()"
   ]
  },
  {
   "cell_type": "code",
   "execution_count": 124,
   "id": "cc523783",
   "metadata": {},
   "outputs": [
    {
     "data": {
      "text/plain": [
       "1.0"
      ]
     },
     "execution_count": 124,
     "metadata": {},
     "output_type": "execute_result"
    }
   ],
   "source": [
    "# Creating a metric object \n",
    "m = Precision()\n",
    "\n",
    "# Calculating the recall value \n",
    "m.update_state(y_true, y_hat)\n",
    "\n",
    "# Return Recall Result\n",
    "m.result().numpy()"
   ]
  },
  {
   "cell_type": "code",
   "execution_count": 125,
   "id": "4999d4d3",
   "metadata": {},
   "outputs": [
    {
     "name": "stdout",
     "output_type": "stream",
     "text": [
      "1.0 1.0\n"
     ]
    }
   ],
   "source": [
    "r = Recall()\n",
    "p = Precision()\n",
    "\n",
    "for test_input, test_val, y_true in test_data.as_numpy_iterator():\n",
    "    yhat = siamese_model.predict([test_input, test_val])\n",
    "    r.update_state(y_true, yhat)\n",
    "    p.update_state(y_true,yhat) \n",
    "\n",
    "print(r.result().numpy(), p.result().numpy())"
   ]
  },
  {
   "cell_type": "markdown",
   "id": "42136218",
   "metadata": {},
   "source": [
    "# 6.4 Viz Results"
   ]
  },
  {
   "cell_type": "code",
   "execution_count": 131,
   "id": "4d2caa9b",
   "metadata": {},
   "outputs": [
    {
     "data": {
      "image/png": "[encoded data removed]",
      "text/plain": [
       "<Figure size 720x576 with 2 Axes>"
      ]
     },
     "metadata": {
      "needs_background": "light"
     },
     "output_type": "display_data"
    }
   ],
   "source": [
    "# Set plot size \n",
    "plt.figure(figsize=(10,8))\n",
    "\n",
    "# Set first subplot\n",
    "plt.subplot(1,2,1)\n",
    "plt.imshow(test_input[0])\n",
    "\n",
    "# Set second subplot\n",
    "plt.subplot(1,2,2)\n",
    "plt.imshow(test_val[0])\n",
    "\n",
    "# Renders cleanly\n",
    "plt.show()"
   ]
  },
  {
   "cell_type": "markdown",
   "id": "0fd5e26c",
   "metadata": {},
   "source": [
    "# 7. Save Model"
   ]
  },
  {
   "cell_type": "code",
   "execution_count": 127,
   "id": "dec039ab",
   "metadata": {},
   "outputs": [
    {
     "name": "stdout",
     "output_type": "stream",
     "text": [
      "WARNING:tensorflow:Compiled the loaded model, but the compiled metrics have yet to be built. `model.compile_metrics` will be empty until you train or evaluate the model.\n"
     ]
    }
   ],
   "source": [
    "# Save weights\n",
    "siamese_model.save('siamesemodelv2.h5')"
   ]
  },
  {
   "cell_type": "code",
   "execution_count": 132,
   "id": "f9d310cc",
   "metadata": {},
   "outputs": [
    {
     "data": {
      "text/plain": [
       "__main__.L1Dist"
      ]
     },
     "execution_count": 132,
     "metadata": {},
     "output_type": "execute_result"
    }
   ],
   "source": [
    "L1Dist"
   ]
  },
  {
   "cell_type": "code",
   "execution_count": 133,
   "id": "543b56aa",
   "metadata": {},
   "outputs": [
    {
     "name": "stdout",
     "output_type": "stream",
     "text": [
      "WARNING:tensorflow:No training configuration found in the save file, so the model was *not* compiled. Compile it manually.\n"
     ]
    }
   ],
   "source": [
    "# Reload model \n",
    "siamese_model = tf.keras.models.load_model('siamesemodelv2.h5', \n",
    "                                   custom_objects={'L1Dist':L1Dist, 'BinaryCrossentropy':tf.losses.BinaryCrossentropy})"
   ]
  },
  {
   "cell_type": "code",
   "execution_count": 134,
   "id": "74e5fc77",
   "metadata": {},
   "outputs": [
    {
     "data": {
      "text/plain": [
       "array([[1.0000000e+00],\n",
       "       [2.4904046e-11],\n",
       "       [3.4595174e-11],\n",
       "       [1.0000000e+00]], dtype=float32)"
      ]
     },
     "execution_count": 134,
     "metadata": {},
     "output_type": "execute_result"
    }
   ],
   "source": [
    "# Make predictions with reloaded model\n",
    "siamese_model.predict([test_input, test_val])"
   ]
  },
  {
   "cell_type": "code",
   "execution_count": 135,
   "id": "afcee0cc",
   "metadata": {},
   "outputs": [
    {
     "name": "stdout",
     "output_type": "stream",
     "text": [
      "Model: \"SiameseNetwork\"\n",
      "__________________________________________________________________________________________________\n",
      "Layer (type)                    Output Shape         Param #     Connected to                     \n",
      "==================================================================================================\n",
      "input_img (InputLayer)          [(None, 100, 100, 3) 0                                            \n",
      "__________________________________________________________________________________________________\n",
      "validation_img (InputLayer)     [(None, 100, 100, 3) 0                                            \n",
      "__________________________________________________________________________________________________\n",
      "embedding (Functional)          (None, 4096)         38960448    input_img[0][0]                  \n",
      "                                                                 validation_img[0][0]             \n",
      "__________________________________________________________________________________________________\n",
      "l1_dist_5 (L1Dist)              (None, 4096)         0           embedding[0][0]                  \n",
      "                                                                 embedding[1][0]                  \n",
      "__________________________________________________________________________________________________\n",
      "dense_3 (Dense)                 (None, 1)            4097        l1_dist_5[0][0]                  \n",
      "==================================================================================================\n",
      "Total params: 38,964,545\n",
      "Trainable params: 38,964,545\n",
      "Non-trainable params: 0\n",
      "__________________________________________________________________________________________________\n"
     ]
    }
   ],
   "source": [
    "# View model summary\n",
    "siamese_model.summary()"
   ]
  },
  {
   "cell_type": "markdown",
   "id": "713b6934",
   "metadata": {},
   "source": [
    "# 8. Real Time Test"
   ]
  },
  {
   "cell_type": "markdown",
   "id": "2a574ecd",
   "metadata": {},
   "source": [
    "## 8.1 Verification Function"
   ]
  },
  {
   "cell_type": "code",
   "execution_count": null,
   "id": "ce89d974",
   "metadata": {},
   "outputs": [],
   "source": [
    "application_data\\verification_images"
   ]
  },
  {
   "cell_type": "code",
   "execution_count": 161,
   "id": "ba4a75b1",
   "metadata": {},
   "outputs": [
    {
     "data": {
      "text/plain": [
       "['86b4f501-c7c4-11ec-a388-2c8db1d65e0b.jpg',\n",
       " '876a6a2c-c7c4-11ec-9954-2c8db1d65e0b.jpg',\n",
       " '87894f71-c7c4-11ec-821a-2c8db1d65e0b.jpg',\n",
       " '878daa08-c7c4-11ec-90c0-2c8db1d65e0b.jpg',\n",
       " '87a2ef0b-c7c4-11ec-82c5-2c8db1d65e0b.jpg',\n",
       " '87a79c03-c7c4-11ec-a489-2c8db1d65e0b.jpg',\n",
       " '87ba93bf-c7c4-11ec-b2d3-2c8db1d65e0b.jpg',\n",
       " '87ecca16-c7c4-11ec-9362-2c8db1d65e0b.jpg',\n",
       " '87faf38c-c7c4-11ec-8401-2c8db1d65e0b.jpg',\n",
       " '880e0243-c7c4-11ec-9cee-2c8db1d65e0b.jpg',\n",
       " '881ea707-c7c4-11ec-a784-2c8db1d65e0b.jpg',\n",
       " '885eff5a-c7c4-11ec-a52a-2c8db1d65e0b.jpg',\n",
       " '886d37c0-c7c4-11ec-9f15-2c8db1d65e0b.jpg',\n",
       " '8871f559-c7c4-11ec-bebc-2c8db1d65e0b.jpg',\n",
       " '88769c7f-c7c4-11ec-bdbf-2c8db1d65e0b.jpg',\n",
       " '887b53e2-c7c4-11ec-9bfd-2c8db1d65e0b.jpg',\n",
       " '8884e1a0-c7c4-11ec-b458-2c8db1d65e0b.jpg',\n",
       " '8889a535-c7c4-11ec-b260-2c8db1d65e0b.jpg',\n",
       " '88a62a44-c7c4-11ec-a1b0-2c8db1d65e0b.jpg',\n",
       " '8904f63e-c7c4-11ec-9573-2c8db1d65e0b.jpg',\n",
       " '8917bed4-c7c4-11ec-966c-2c8db1d65e0b.jpg',\n",
       " '89346d21-c7c4-11ec-b94a-2c8db1d65e0b.jpg',\n",
       " '894e96bc-c7c4-11ec-b1fb-2c8db1d65e0b.jpg',\n",
       " '89580d15-c7c4-11ec-bb70-2c8db1d65e0b.jpg',\n",
       " '899ca696-c7c4-11ec-89ce-2c8db1d65e0b.jpg',\n",
       " '89e1a2fe-c7c4-11ec-9aca-2c8db1d65e0b.jpg',\n",
       " '89f00488-c7c4-11ec-ab0d-2c8db1d65e0b.jpg',\n",
       " '8c06ab8d-c7c4-11ec-882f-2c8db1d65e0b.jpg',\n",
       " '8c2a335c-c7c4-11ec-99cb-2c8db1d65e0b.jpg',\n",
       " '8c389100-c7c4-11ec-863b-2c8db1d65e0b.jpg',\n",
       " '8c577354-c7c4-11ec-bd28-2c8db1d65e0b.jpg',\n",
       " '8c73eb43-c7c4-11ec-9e9d-2c8db1d65e0b.jpg',\n",
       " '8c891ef1-c7c4-11ec-bc77-2c8db1d65e0b.jpg',\n",
       " '8c974737-c7c4-11ec-9b3f-2c8db1d65e0b.jpg',\n",
       " '8cd33804-c7c4-11ec-b0f5-2c8db1d65e0b.jpg',\n",
       " '8ce1c548-c7c4-11ec-b886-2c8db1d65e0b.jpg',\n",
       " '8cf6e616-c7c4-11ec-8000-2c8db1d65e0b.jpg',\n",
       " '8d0041d8-c7c4-11ec-8494-2c8db1d65e0b.jpg',\n",
       " '8d0ebc70-c7c4-11ec-8af0-2c8db1d65e0b.jpg',\n",
       " '8d71a59e-c7c4-11ec-8893-2c8db1d65e0b.jpg',\n",
       " '8d950cf0-c7c4-11ec-b1b2-2c8db1d65e0b.jpg',\n",
       " '8d99ec19-c7c4-11ec-881e-2c8db1d65e0b.jpg',\n",
       " '8dd59ac9-c7c4-11ec-a7a2-2c8db1d65e0b.jpg',\n",
       " '8e0ca35d-c7c4-11ec-a176-2c8db1d65e0b.jpg',\n",
       " '8e272de0-c7c4-11ec-b152-2c8db1d65e0b.jpg',\n",
       " '8e3a4e68-c7c4-11ec-84ab-2c8db1d65e0b.jpg',\n",
       " '8e58f499-c7c4-11ec-8016-2c8db1d65e0b.jpg',\n",
       " '8e75a953-c7c4-11ec-974e-2c8db1d65e0b.jpg',\n",
       " '8e88c705-c7c4-11ec-bb13-2c8db1d65e0b.jpg',\n",
       " '8e96c977-c7c4-11ec-9f11-2c8db1d65e0b.jpg']"
      ]
     },
     "execution_count": 161,
     "metadata": {},
     "output_type": "execute_result"
    }
   ],
   "source": [
    "os.listdir(os.path.join('application_data', 'verification_images'))"
   ]
  },
  {
   "cell_type": "code",
   "execution_count": 160,
   "id": "d54fd314",
   "metadata": {},
   "outputs": [
    {
     "data": {
      "text/plain": [
       "'application_data\\\\input_image\\\\input_image.jpg'"
      ]
     },
     "execution_count": 160,
     "metadata": {},
     "output_type": "execute_result"
    }
   ],
   "source": [
    "os.path.join('application_data', 'input_image', 'input_image.jpg')"
   ]
  },
  {
   "cell_type": "code",
   "execution_count": 162,
   "id": "008fd57e",
   "metadata": {},
   "outputs": [
    {
     "name": "stdout",
     "output_type": "stream",
     "text": [
      "application_data\\verification_images\\86b4f501-c7c4-11ec-a388-2c8db1d65e0b.jpg\n",
      "application_data\\verification_images\\876a6a2c-c7c4-11ec-9954-2c8db1d65e0b.jpg\n",
      "application_data\\verification_images\\87894f71-c7c4-11ec-821a-2c8db1d65e0b.jpg\n",
      "application_data\\verification_images\\878daa08-c7c4-11ec-90c0-2c8db1d65e0b.jpg\n",
      "application_data\\verification_images\\87a2ef0b-c7c4-11ec-82c5-2c8db1d65e0b.jpg\n",
      "application_data\\verification_images\\87a79c03-c7c4-11ec-a489-2c8db1d65e0b.jpg\n",
      "application_data\\verification_images\\87ba93bf-c7c4-11ec-b2d3-2c8db1d65e0b.jpg\n",
      "application_data\\verification_images\\87ecca16-c7c4-11ec-9362-2c8db1d65e0b.jpg\n",
      "application_data\\verification_images\\87faf38c-c7c4-11ec-8401-2c8db1d65e0b.jpg\n",
      "application_data\\verification_images\\880e0243-c7c4-11ec-9cee-2c8db1d65e0b.jpg\n",
      "application_data\\verification_images\\881ea707-c7c4-11ec-a784-2c8db1d65e0b.jpg\n",
      "application_data\\verification_images\\885eff5a-c7c4-11ec-a52a-2c8db1d65e0b.jpg\n",
      "application_data\\verification_images\\886d37c0-c7c4-11ec-9f15-2c8db1d65e0b.jpg\n",
      "application_data\\verification_images\\8871f559-c7c4-11ec-bebc-2c8db1d65e0b.jpg\n",
      "application_data\\verification_images\\88769c7f-c7c4-11ec-bdbf-2c8db1d65e0b.jpg\n",
      "application_data\\verification_images\\887b53e2-c7c4-11ec-9bfd-2c8db1d65e0b.jpg\n",
      "application_data\\verification_images\\8884e1a0-c7c4-11ec-b458-2c8db1d65e0b.jpg\n",
      "application_data\\verification_images\\8889a535-c7c4-11ec-b260-2c8db1d65e0b.jpg\n",
      "application_data\\verification_images\\88a62a44-c7c4-11ec-a1b0-2c8db1d65e0b.jpg\n",
      "application_data\\verification_images\\8904f63e-c7c4-11ec-9573-2c8db1d65e0b.jpg\n",
      "application_data\\verification_images\\8917bed4-c7c4-11ec-966c-2c8db1d65e0b.jpg\n",
      "application_data\\verification_images\\89346d21-c7c4-11ec-b94a-2c8db1d65e0b.jpg\n",
      "application_data\\verification_images\\894e96bc-c7c4-11ec-b1fb-2c8db1d65e0b.jpg\n",
      "application_data\\verification_images\\89580d15-c7c4-11ec-bb70-2c8db1d65e0b.jpg\n",
      "application_data\\verification_images\\899ca696-c7c4-11ec-89ce-2c8db1d65e0b.jpg\n",
      "application_data\\verification_images\\89e1a2fe-c7c4-11ec-9aca-2c8db1d65e0b.jpg\n",
      "application_data\\verification_images\\89f00488-c7c4-11ec-ab0d-2c8db1d65e0b.jpg\n",
      "application_data\\verification_images\\8c06ab8d-c7c4-11ec-882f-2c8db1d65e0b.jpg\n",
      "application_data\\verification_images\\8c2a335c-c7c4-11ec-99cb-2c8db1d65e0b.jpg\n",
      "application_data\\verification_images\\8c389100-c7c4-11ec-863b-2c8db1d65e0b.jpg\n",
      "application_data\\verification_images\\8c577354-c7c4-11ec-bd28-2c8db1d65e0b.jpg\n",
      "application_data\\verification_images\\8c73eb43-c7c4-11ec-9e9d-2c8db1d65e0b.jpg\n",
      "application_data\\verification_images\\8c891ef1-c7c4-11ec-bc77-2c8db1d65e0b.jpg\n",
      "application_data\\verification_images\\8c974737-c7c4-11ec-9b3f-2c8db1d65e0b.jpg\n",
      "application_data\\verification_images\\8cd33804-c7c4-11ec-b0f5-2c8db1d65e0b.jpg\n",
      "application_data\\verification_images\\8ce1c548-c7c4-11ec-b886-2c8db1d65e0b.jpg\n",
      "application_data\\verification_images\\8cf6e616-c7c4-11ec-8000-2c8db1d65e0b.jpg\n",
      "application_data\\verification_images\\8d0041d8-c7c4-11ec-8494-2c8db1d65e0b.jpg\n",
      "application_data\\verification_images\\8d0ebc70-c7c4-11ec-8af0-2c8db1d65e0b.jpg\n",
      "application_data\\verification_images\\8d71a59e-c7c4-11ec-8893-2c8db1d65e0b.jpg\n",
      "application_data\\verification_images\\8d950cf0-c7c4-11ec-b1b2-2c8db1d65e0b.jpg\n",
      "application_data\\verification_images\\8d99ec19-c7c4-11ec-881e-2c8db1d65e0b.jpg\n",
      "application_data\\verification_images\\8dd59ac9-c7c4-11ec-a7a2-2c8db1d65e0b.jpg\n",
      "application_data\\verification_images\\8e0ca35d-c7c4-11ec-a176-2c8db1d65e0b.jpg\n",
      "application_data\\verification_images\\8e272de0-c7c4-11ec-b152-2c8db1d65e0b.jpg\n",
      "application_data\\verification_images\\8e3a4e68-c7c4-11ec-84ab-2c8db1d65e0b.jpg\n",
      "application_data\\verification_images\\8e58f499-c7c4-11ec-8016-2c8db1d65e0b.jpg\n",
      "application_data\\verification_images\\8e75a953-c7c4-11ec-974e-2c8db1d65e0b.jpg\n",
      "application_data\\verification_images\\8e88c705-c7c4-11ec-bb13-2c8db1d65e0b.jpg\n",
      "application_data\\verification_images\\8e96c977-c7c4-11ec-9f11-2c8db1d65e0b.jpg\n"
     ]
    }
   ],
   "source": [
    "\n",
    "for image in os.listdir(os.path.join('application_data', 'verification_images')):\n",
    "    validation_img = os.path.join('application_data', 'verification_images', image)\n",
    "    print(validation_img)"
   ]
  },
  {
   "cell_type": "code",
   "execution_count": 163,
   "id": "8a991a0c",
   "metadata": {},
   "outputs": [],
   "source": [
    "def verify(model, detection_threshold, verification_threshold):\n",
    "    # Build results array\n",
    "    results = []\n",
    "    for image in os.listdir(os.path.join('application_data', 'verification_images')):\n",
    "        input_img = preprocess(os.path.join('application_data', 'input_image', 'input_image.jpg'))\n",
    "        validation_img = preprocess(os.path.join('application_data', 'verification_images', image))\n",
    "        \n",
    "        # Make Predictions \n",
    "        result = model.predict(list(np.expand_dims([input_img, validation_img], axis=1)))\n",
    "        results.append(result)\n",
    "    \n",
    "    # Detection Threshold: Metric above which a prediciton is considered positive \n",
    "    detection = np.sum(np.array(results) > detection_threshold)\n",
    "    \n",
    "    # Verification Threshold: Proportion of positive predictions / total positive samples \n",
    "    verification = detection / len(os.listdir(os.path.join('application_data', 'verification_images'))) \n",
    "    verified = verification > verification_threshold\n",
    "    \n",
    "    return results, verified\n"
   ]
  },
  {
   "cell_type": "markdown",
   "id": "ee87a78d",
   "metadata": {},
   "source": [
    "## 8.2 OpenCV Real Time Verification"
   ]
  },
  {
   "cell_type": "code",
   "execution_count": 202,
   "id": "a6204a1a",
   "metadata": {},
   "outputs": [
    {
     "name": "stdout",
     "output_type": "stream",
     "text": [
      "True\n",
      "True\n",
      "False\n",
      "True\n"
     ]
    }
   ],
   "source": [
    "cap = cv2.VideoCapture(0)\n",
    "while cap.isOpened():\n",
    "    ret, frame = cap.read()\n",
    "    frame = frame[120:120+250,200:200+250, :]\n",
    "    \n",
    "    cv2.imshow('Verification', frame)\n",
    "    \n",
    "    # Verification trigger\n",
    "    if cv2.waitKey(10) & 0xFF == ord('v'):\n",
    "        # Save input image to application_data/input_image folder \n",
    "#         hsv = cv2.cvtColor(frame, cv2.COLOR_BGR2HSV)\n",
    "#         h, s, v = cv2.split(hsv)\n",
    "\n",
    "#         lim = 255 - 10\n",
    "#         v[v > lim] = 255\n",
    "#         v[v <= lim] -= 10\n",
    "        \n",
    "#         final_hsv = cv2.merge((h, s, v))\n",
    "#         img = cv2.cvtColor(final_hsv, cv2.COLOR_HSV2BGR)\n",
    "\n",
    "        cv2.imwrite(os.path.join('application_data', 'input_image', 'input_image.jpg'), frame)\n",
    "        # Run verification\n",
    "        results, verified = verify(siamese_model, 0.9, 0.7)\n",
    "        print(verified)\n",
    "    \n",
    "    if cv2.waitKey(10) & 0xFF == ord('q'):\n",
    "        break\n",
    "cap.release()\n",
    "cv2.destroyAllWindows()"
   ]
  },
  {
   "cell_type": "code",
   "execution_count": 205,
   "id": "0224eb69",
   "metadata": {},
   "outputs": [
    {
     "data": {
      "text/plain": [
       "34"
      ]
     },
     "execution_count": 205,
     "metadata": {},
     "output_type": "execute_result"
    }
   ],
   "source": [
    "np.sum(np.squeeze(results) > 0.9)"
   ]
  },
  {
   "cell_type": "code",
   "execution_count": 206,
   "id": "70378485",
   "metadata": {},
   "outputs": [
    {
     "data": {
      "text/plain": [
       "[array([[0.14680418]], dtype=float32),\n",
       " array([[0.13474336]], dtype=float32),\n",
       " array([[0.48516512]], dtype=float32),\n",
       " array([[0.48516512]], dtype=float32),\n",
       " array([[0.5732986]], dtype=float32),\n",
       " array([[0.24134219]], dtype=float32),\n",
       " array([[0.02939603]], dtype=float32),\n",
       " array([[0.09031317]], dtype=float32),\n",
       " array([[0.41756094]], dtype=float32),\n",
       " array([[0.32010517]], dtype=float32),\n",
       " array([[0.50696665]], dtype=float32),\n",
       " array([[0.99993503]], dtype=float32),\n",
       " array([[0.99995524]], dtype=float32),\n",
       " array([[0.99995524]], dtype=float32),\n",
       " array([[0.9985697]], dtype=float32),\n",
       " array([[0.9985697]], dtype=float32),\n",
       " array([[0.9998806]], dtype=float32),\n",
       " array([[0.9999629]], dtype=float32),\n",
       " array([[0.9999877]], dtype=float32),\n",
       " array([[0.9986385]], dtype=float32),\n",
       " array([[0.99390745]], dtype=float32),\n",
       " array([[0.97903717]], dtype=float32),\n",
       " array([[0.0846543]], dtype=float32),\n",
       " array([[0.03328544]], dtype=float32),\n",
       " array([[0.9999817]], dtype=float32),\n",
       " array([[0.99991256]], dtype=float32),\n",
       " array([[0.99999714]], dtype=float32),\n",
       " array([[0.9698789]], dtype=float32),\n",
       " array([[0.95624137]], dtype=float32),\n",
       " array([[0.9452583]], dtype=float32),\n",
       " array([[0.9953451]], dtype=float32),\n",
       " array([[0.98663175]], dtype=float32),\n",
       " array([[0.9896736]], dtype=float32),\n",
       " array([[0.9835962]], dtype=float32),\n",
       " array([[0.98089457]], dtype=float32),\n",
       " array([[0.9125307]], dtype=float32),\n",
       " array([[0.04678491]], dtype=float32),\n",
       " array([[0.8250991]], dtype=float32),\n",
       " array([[0.98679745]], dtype=float32),\n",
       " array([[0.99971294]], dtype=float32),\n",
       " array([[0.9999967]], dtype=float32),\n",
       " array([[0.999993]], dtype=float32),\n",
       " array([[0.9999958]], dtype=float32),\n",
       " array([[0.9710983]], dtype=float32),\n",
       " array([[0.0220027]], dtype=float32),\n",
       " array([[0.99987507]], dtype=float32),\n",
       " array([[0.9999801]], dtype=float32),\n",
       " array([[0.99996674]], dtype=float32),\n",
       " array([[0.99998975]], dtype=float32),\n",
       " array([[0.99998546]], dtype=float32)]"
      ]
     },
     "execution_count": 206,
     "metadata": {},
     "output_type": "execute_result"
    }
   ],
   "source": [
    "results"
   ]
  },
  {
   "cell_type": "code",
   "execution_count": null,
   "id": "0c075cb9",
   "metadata": {},
   "outputs": [],
   "source": []
  },
  {
   "cell_type": "code",
   "execution_count": null,
   "id": "02bac9d0",
   "metadata": {},
   "outputs": [],
   "source": []
  },
  {
   "cell_type": "code",
   "execution_count": null,
   "id": "8f8a1cdd",
   "metadata": {},
   "outputs": [],
   "source": []
  },
  {
   "cell_type": "code",
   "execution_count": null,
   "id": "7bab855c",
   "metadata": {},
   "outputs": [],
   "source": []
  },
  {
   "cell_type": "code",
   "execution_count": null,
   "id": "51eb1871",
   "metadata": {},
   "outputs": [],
   "source": []
  },
  {
   "cell_type": "code",
   "execution_count": null,
   "id": "1204c4c8",
   "metadata": {},
   "outputs": [],
   "source": []
  },
  {
   "cell_type": "code",
   "execution_count": null,
   "id": "096ba7b7",
   "metadata": {},
   "outputs": [],
   "source": []
  },
  {
   "cell_type": "code",
   "execution_count": null,
   "id": "e627a5e3",
   "metadata": {},
   "outputs": [],
   "source": []
  },
  {
   "cell_type": "markdown",
   "id": "256901ea",
   "metadata": {},
   "source": [
    "def data_aug(img):\n",
    "    data = []\n",
    "    for i in range(9):\n",
    "        img = tf.image.stateless_random_brightness(img, max_delta=0.02, seed=(1,2))\n",
    "        img = tf.image.stateless_random_contrast(img, lower=0.6, upper=1, seed=(1,3))\n",
    "        # img = tf.image.stateless_random_crop(img, size=(20,20,3), seed=(1,2))\n",
    "        img = tf.image.stateless_random_flip_left_right(img, seed=(np.random.randint(100),np.random.randint(100)))\n",
    "        img = tf.image.stateless_random_jpeg_quality(img, min_jpeg_quality=90, max_jpeg_quality=100, seed=(np.random.randint(100),np.random.randint(100)))\n",
    "        img = tf.image.stateless_random_saturation(img, lower=0.9,upper=1, seed=(np.random.randint(100),np.random.randint(100)))\n",
    "            \n",
    "        data.append(img)\n",
    "    \n",
    "    return data"
   ]
  },
  {
   "cell_type": "markdown",
   "id": "a3579e0e",
   "metadata": {},
   "source": [
    "import os\n",
    "import uuid"
   ]
  },
  {
   "cell_type": "markdown",
   "id": "74d0ab10",
   "metadata": {},
   "source": [
    "img_path = os.path.join(ANC_PATH, '924e839c-135f-11ec-b54e-a0cec8d2d278.jpg')\n",
    "img = cv2.imread(img_path)\n",
    "augmented_images = data_aug(img)\n",
    "\n",
    "for image in augmented_images:\n",
    "    cv2.imwrite(os.path.join(ANC_PATH, '{}.jpg'.format(uuid.uuid1())), image.numpy())"
   ]
  },
  {
   "cell_type": "markdown",
   "id": "dd9084ab",
   "metadata": {},
   "source": [
    "for file_name in os.listdir(os.path.join(POS_PATH)):\n",
    "    img_path = os.path.join(POS_PATH, file_name)\n",
    "    img = cv2.imread(img_path)\n",
    "    augmented_images = data_aug(img) \n",
    "    \n",
    "    for image in augmented_images:\n",
    "        cv2.imwrite(os.path.join(POS_PATH, '{}.jpg'.format(uuid.uuid1())), image.numpy())"
   ]
  },
  {
   "cell_type": "code",
   "execution_count": null,
   "id": "fc1cf3d3",
   "metadata": {},
   "outputs": [],
   "source": [
    "def preprocess(file_path):\n",
    "    \n",
    "    # Read in image from file path\n",
    "    byte_img = tf.io.read_file(file_path)\n",
    "    # Load in the image \n",
    "    img = tf.io.decode_jpeg(byte_img)\n",
    "    \n",
    "    # Preprocessing steps - resizing the image to be 100x100x3\n",
    "    img = tf.image.resize(img, (100,100))\n",
    "    # Scale image to be between 0 and 1 \n",
    "    img = img / 255.0\n",
    "\n",
    "    # Return image\n",
    "    return img"
   ]
  },
  {
   "cell_type": "code",
   "execution_count": null,
   "id": "4a8a67cc",
   "metadata": {},
   "outputs": [],
   "source": []
  },
  {
   "cell_type": "code",
   "execution_count": null,
   "id": "672fc30c",
   "metadata": {},
   "outputs": [],
   "source": []
  },
  {
   "cell_type": "code",
   "execution_count": null,
   "id": "f083fb97",
   "metadata": {},
   "outputs": [],
   "source": []
  },
  {
   "cell_type": "code",
   "execution_count": null,
   "id": "a1f9dd13",
   "metadata": {},
   "outputs": [],
   "source": []
  },
  {
   "cell_type": "code",
   "execution_count": null,
   "id": "434ba30c",
   "metadata": {},
   "outputs": [],
   "source": []
  }
 ],
 "metadata": {
  "kernelspec": {
   "display_name": "Python 3 (ipykernel)",
   "language": "python",
   "name": "python3"
  },
  "language_info": {
   "codemirror_mode": {
    "name": "ipython",
    "version": 3
   },
   "file_extension": ".py",
   "mimetype": "text/x-python",
   "name": "python",
   "nbconvert_exporter": "python",
   "pygments_lexer": "ipython3",
   "version": "3.9.7"
  }
 },
 "nbformat": 4,
 "nbformat_minor": 5
}
